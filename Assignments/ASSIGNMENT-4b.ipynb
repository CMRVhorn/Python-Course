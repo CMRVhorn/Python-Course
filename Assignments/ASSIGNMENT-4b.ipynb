{
 "cells": [
  {
   "cell_type": "markdown",
   "metadata": {},
   "source": [
    "# Assignment 4b: Converting XML to CSV\n",
    "\n",
    "### Due: Tuesday the 4th of December 2018 at 20:00 \n",
    "\n",
    "Please name your notebook with the following naming convention: ASSIGNMENT_4b_FIRSTNAME_LASTNAME.ipynb \n",
    "\n",
    "Please submit your assignment using [this google form](https://goo.gl/forms/Guqm1p448xMgXo0E3).\n",
    "\n",
    "If you have **questions** about this assignment, please use the **Canvas discussion forum**."
   ]
  },
  {
   "cell_type": "markdown",
   "metadata": {},
   "source": [
    "## Introduction\n",
    "   \n",
    "[NewsReader](http://www.newsreader-project.eu/) needs your help!\n",
    "Within the project, a English NLP pipeline has been developed and they would like to know how well it performs.\n",
    "However, in order to run the scorer, they must convert their output format [NAF](http://www.newsreader-project.eu/files/2013/01/techreport.pdf) to CoNLL. In this assignment, you will write the converter!\n",
    "\n",
    "The NLP task they've chosen is [Entity Linking](https://en.wikipedia.org/wiki/Entity_linking). The goal of Entity Linking is to link an expression to the identity of an entity. For example, in the sentence *Ford makes cars*, the goal of Entity Linking would be to link the expression *Ford* to the [Wikipedia page of Ford Motor Company](https://en.wikipedia.org/wiki/Ford_Motor_Company). This is a challenging task, since *Ford* has many meanings; for example, it can also mean the actor [Harrison Ford](https://en.wikipedia.org/wiki/Harrison_Ford).\n",
    "\n",
    "The output from the NewsReader pipeline is not a text file, nor CSV/TSV. No, it's a type of XML. Instead of going through a file line by line, you search for specific elements or attributes of elements."
   ]
  },
  {
   "cell_type": "code",
   "execution_count": null,
   "metadata": {
    "collapsed": true
   },
   "outputs": [],
   "source": [
    "from lxml import etree "
   ]
  },
  {
   "cell_type": "markdown",
   "metadata": {},
   "source": [
    "## NE (Named Entities)\n",
    "Please observe the following element. Try to understand which elements are children/parents from which elements.\n",
    "\n",
    "```xml\n",
    "<entity id=\"e3\" type=\"PERSON\">\n",
    "      <references>\n",
    "        <!--Craig Wood-->\n",
    "        <span>\n",
    "          <target id=\"t42\" />\n",
    "          <target id=\"t43\" />\n",
    "        </span>\n",
    "      </references>\n",
    "      <externalReferences>\n",
    "        <externalRef resource=\"spotlight_v1\" reference=\"http://dbpedia.org/resource/Craig_Wood_(golfer)\" confidence=\"1.0\" reftype=\"en\" />\n",
    "        <externalRef resource=\"spotlight_v1\" reference=\"http://dbpedia.org/resource/Craig_Wood_(NASCAR)\" confidence=\"9.0210754E-36\" reftype=\"en\" />\n",
    "        <externalRef resource=\"spotlight_v1\" reference=\"http://dbpedia.org/resource/Craig_Wood_(film_editor)\" confidence=\"1.739528E-36\" reftype=\"en\" />\n",
    "      </externalReferences>\n",
    "    </entity>\n",
    "\n",
    "```\n",
    "\n",
    "Above, you see an example of the Newsreader output in NAF. \n",
    "* the `entity` element is the main element.\n",
    "* the `entity` element contains information about its id and the entity type (attributes `id`, and `type`, respectively.)\n",
    "* the first child of the entity element is the `references` element. This element provides us with the information that the entity is 'Craig Wood' and that the term 'Craig' is the 42nd term in the document and 'Wood' the 43rd.\n",
    "* the second child of the entity element is the `externalReferences` element. This shows the output from the system 'spotlight_v1', which tries to link the entity 'Craig Wood' to Dbpedia (structured Wikipedia). The system has a `confidence` of 1.0 (the highest possible value) that the entity refers to http://dbpedia.org/resource/Craig_Wood_(golfer).\n",
    "    \n",
    " \n",
    "Our goal is to extract the following information from this element:\n",
    "* entity type: 'PERSON', 'ORGANISATION' or 'LOCATION'. This can be found in the attribute `type` of element `entity`.\n",
    "* the dbpedia link with the highest confidence (see `externalReferences/externalRef`).\n",
    "* finally, we want to know for each term (t_42 and t_43), which position they have in the entity. t_42 ('Craig') is the first term in the entity, and t_43 ('Wood') is the last term in the entity."
   ]
  },
  {
   "cell_type": "markdown",
   "metadata": {},
   "source": [
    "We want to convert this entity element to a format called CoNLL. Using the entity element as input, it should output the following: \n",
    "\n",
    "...\n",
    "```\n",
    "41\tfrom\t_\t_\n",
    "42\tCraig\t(PERSON\thttp://dbpedia.org/resource/Craig_Wood_(golfer)\n",
    "43\tWood\tPERSON)\thttp://dbpedia.org/resource/Craig_Wood_(golfer)\n",
    "44\t's\t_\t_\n",
    "```\n",
    "...\n",
    "\n",
    "Note that it also includes the tokens that are not annotated as an entity."
   ]
  },
  {
   "cell_type": "markdown",
   "metadata": {},
   "source": [
    "## Goal of this assignment\n",
    "The goal of this assignment is to complete the code snippet below, which means that you will convert one NAF file to CoNLL. The assignment can be roughly divided into the following steps:\n",
    "* **Step 1:** complete the helper functions below\n",
    "* **Step 2:** call the helper functions in the for-loop\n",
    "* **Step 3:** move the code to python files (`converter.py` and `utils.py`)"
   ]
  },
  {
   "cell_type": "markdown",
   "metadata": {},
   "source": [
    "This is the code snippet that you will have to complete and run:"
   ]
  },
  {
   "cell_type": "code",
   "execution_count": null,
   "metadata": {
    "collapsed": true
   },
   "outputs": [],
   "source": [
    "doc = etree.parse('../Data/xml_data/naf.xml')\n",
    "\n",
    "t_id2info = dict()\n",
    "\n",
    "entity_els = doc.findall('entities/entity')\n",
    "\n",
    "for entity_el in entity_els:\n",
    "    \n",
    "    # determine entity type (default is _)\n",
    "    entity_type = type_of_entity(entity_el)\n",
    "    \n",
    "    # extract dbpedia link with highest confidence (default is _)\n",
    "    chosen_dbpedia_link = dbpedia_link_with_highest_confidence(entity_el)\n",
    "   \n",
    "    # determine the position of t_ids in the entity\n",
    "    t_ids_positions = t_ids_with_position(entity_el)\n",
    "    \n",
    "    #loop over t_ids and their positions\n",
    "    for t_id, position in t_ids_positions:\n",
    "\n",
    "        #get position of t_id\n",
    "        #HINT: use the indicate_position_of_tid function\n",
    "        entity_type_with_position = indicate_position_of_tid(entity_type, position)\n",
    "\n",
    "        #update dictionary\n",
    "        t_id2info[t_id] = {'entity_type_with_position': entity_type_with_position,\n",
    "                           'dbpedia_link': chosen_dbpedia_link}\n",
    "        \n",
    "        print(t_id, t_id2info[t_id])\n",
    "    \n",
    "    input('continue?') # only here for debugging\n",
    "    # the input here allows you to inspect the output one entity element at a time\n",
    "    \n",
    "\n",
    "# load the mapping of term identifier to lemmas\n",
    "tid2lemma = load_mapping_tid2token(doc)\n",
    "\n",
    "# use the information from t_id2info and tid2lemma to create the conll\n",
    "# T_ID TAB LEMMA  TAB ENTITY_TYPE_WITH_POSITION TAB CHOSEN_DBPEDIA_LINK NEWLINE\n",
    "\n",
    "# HINT if a t_id does not have annotation both ENTITY_TYPE_WITH_POSITION and CHOSEN_DBPEDIA_LINK are '_'\n",
    "\n",
    "conll_file = '../Data/xml_data/naf.conll'\n",
    "# your code here  "
   ]
  },
  {
   "cell_type": "markdown",
   "metadata": {},
   "source": [
    "We will first load one entity element as XML in order to help us develop our program that will run on many entity elements."
   ]
  },
  {
   "cell_type": "code",
   "execution_count": null,
   "metadata": {
    "collapsed": true
   },
   "outputs": [],
   "source": [
    "#load the element as XML element.\n",
    "entity = '''\n",
    "<entity id=\"e3\" type=\"PERSON\">\n",
    "      <references>\n",
    "        <!--Craig Wood-->\n",
    "        <span>\n",
    "          <target id=\"t42\" />\n",
    "          <target id=\"t43\" />\n",
    "        </span>\n",
    "      </references>\n",
    "      <externalReferences>\n",
    "        <externalRef resource=\"spotlight_v1\" reference=\"http://dbpedia.org/resource/Craig_Wood_(golfer)\" confidence=\"1.0\" reftype=\"en\" />\n",
    "        <externalRef resource=\"spotlight_v1\" reference=\"http://dbpedia.org/resource/Craig_Wood_(NASCAR)\" confidence=\"9.0210754E-36\" reftype=\"en\" />\n",
    "        <externalRef resource=\"spotlight_v1\" reference=\"http://dbpedia.org/resource/Craig_Wood_(film_editor)\" confidence=\"1.739528E-36\" reftype=\"en\" />\n",
    "      </externalReferences>\n",
    "    </entity>'''\n",
    "\n",
    "entity_el = etree.fromstring(entity)"
   ]
  },
  {
   "cell_type": "markdown",
   "metadata": {},
   "source": [
    "### Step 1: Help functions\n",
    "In order extract all the relevant information from the entity element, we are going to write a lot of small functions to help us."
   ]
  },
  {
   "cell_type": "markdown",
   "metadata": {},
   "source": [
    "#### 1a.  Get the entity type\n",
    "Create a function `type_of_entity()` that takes one parameter: `entity_el` (positional parameter). It should return the `entity_type` of the entity element (access the value of the attribute `type`). If the value is an empty string, or the attribute does not exist, return the string `'_'`."
   ]
  },
  {
   "cell_type": "code",
   "execution_count": null,
   "metadata": {
    "collapsed": true
   },
   "outputs": [],
   "source": [
    "def type_of_entity(entity_el):\n",
    "    '''\n",
    "    given an entity element, return the entity type\n",
    "    '''\n",
    "    # your code here\n",
    "\n",
    "entity_type = type_of_entity(entity_el)\n",
    "print(entity_type)"
   ]
  },
  {
   "cell_type": "markdown",
   "metadata": {},
   "source": [
    "#### 1b. Get the DBpedia link with the highest confidence\n",
    "Create a function `dbpedia_link_with_highest_confidence()` that takes one parameter: `entity_el` (positional parameter). It should return the dbpedia link with the highest confidence, or return the string `'_'` if there are no dbpedia links in the `externalReferences` element.\n",
    "\n",
    "To do this, create a list of tuples with dbpedia links with their corresponding confidences:\n",
    "```\n",
    "    [(1.0, 'http://dbpedia.org/resource/Craig_Wood_(golfer)'),\n",
    "     (9.0210754E-36, 'http://dbpedia.org/resource/Craig_Wood_(NASCAR)'),\n",
    "     (1.739528E-36, 'http://dbpedia.org/resource/Craig_Wood_(film_editor)')]\n",
    "```\n",
    "   \n",
    "**HINT:** do not forget to change the confidence to float (it's now a string)."
   ]
  },
  {
   "cell_type": "code",
   "execution_count": null,
   "metadata": {
    "collapsed": true
   },
   "outputs": [],
   "source": [
    "def dbpedia_link_with_highest_confidence(entity_el):\n",
    "    '''\n",
    "    given an entity element, return the dbpedia link with the highest confidence\n",
    "    '''\n",
    "    # your code here\n",
    "    \n",
    "result = dbpedia_link_with_highest_confidence(entity_el)\n",
    "print(result)"
   ]
  },
  {
   "cell_type": "markdown",
   "metadata": {},
   "source": [
    "#### 1c. Find the positions of terms in entity\n",
    "Create a function called `t_ids_with_position()` that takes one parameter: `entity_el` (positional parameter). It should loop over the `/references/span/target` elements and return a list of tuples (`term id`, `position_in_entity`).\n",
    "Possible values for `position_in_entity` are:  `\"start\"`, `\"middle\"`, `\"end\"`, `\"start_and_end\"`\n",
    "\n",
    "Example of output for the example `entity_el`:\n",
    "```\n",
    "    [(42, 'start'), (43, 'end')]\n",
    "```\n",
    "\n",
    "**HINT:** return an empty list if there are no target elements."
   ]
  },
  {
   "cell_type": "code",
   "execution_count": null,
   "metadata": {
    "collapsed": true
   },
   "outputs": [],
   "source": [
    "def t_ids_with_position(entity_el):\n",
    "    '''\n",
    "    given an entity element, return the position of each term id in that entity\n",
    "    '''\n",
    "    term_positions = []\n",
    "    \n",
    "    # find all 'span/target elements' elements and determine the number of children\n",
    "    target_els = entity_el.findall('references/span/target')\n",
    "    len_target_els = len(target_els)\n",
    "    \n",
    "    #if there is only one element, the position is 'start_and_end'\n",
    "    if len_target_els == 1:\n",
    "        # your code here\n",
    "    \n",
    "    #if there are 0 children or two or more children, loop over the target elements.\n",
    "    else:\n",
    "        #HINT: use enumerate\n",
    "        #HINT: use 'len_target_els' to check if it's the last element\n",
    "        \n",
    "        # your code here\n",
    "\n",
    "    return term_positions\n",
    "\n",
    "t_ids_with_position(entity_el)   "
   ]
  },
  {
   "cell_type": "markdown",
   "metadata": {},
   "source": [
    "#### 1d. Get the entity_type with the position\n",
    "\n",
    "Create a function `indicate_position_of_tid()` that returns the entity_type with parantheses that indicate the position of a term id.\n",
    "\n",
    "For example, if the entity type is 'ORG', the function should work in the following way:\n",
    "```\n",
    "    -position = 'start': '(ORG'\n",
    "    -position = 'middle': 'ORG'\n",
    "    -position = 'end': 'ORG)'\n",
    "    -position = 'start_and_end': '(ORG)'\n",
    "```\n",
    "\n",
    "If there is no entity type (`entity_type == '_'`), return the string `'_'`."
   ]
  },
  {
   "cell_type": "code",
   "execution_count": null,
   "metadata": {
    "collapsed": true
   },
   "outputs": [],
   "source": [
    "#### return entity type with parentheses indicating position\n",
    "\n",
    "def indicate_position_of_tid(entity_type, position):\n",
    "    '''\n",
    "    this function returns the entity_type with the position.\n",
    "    for example, if the entity type is 'ORG', \n",
    "    the function should work in the following way\n",
    "    -position = 'start': '(ORG'\n",
    "    -position = 'middle': 'ORG'\n",
    "    -position = 'end': 'ORG)'\n",
    "    -position = 'start_and_end': '(ORG)'\n",
    "    \n",
    "    if entity_type == '_': \n",
    "        return '_'\n",
    "    '''\n",
    "    # your code here \n",
    "    \n",
    "    return result"
   ]
  },
  {
   "cell_type": "markdown",
   "metadata": {},
   "source": [
    "#### 1e. Mapping the t_ids to their corresponding lemmas\n",
    "\n",
    "Create a function `load_mapping_tid2token()` that takes one parameter: `doc` (positional parameter), which represents a loaded XML file of type `lxml.etree._ElementTree`. It should return a dictionary mapping all t_ids to their corresponding lemmas.\n",
    "\n",
    "For example, for this element:\n",
    "```\n",
    "    <term id=\"t1\" type=\"open\" lemma=\"accord\" pos=\"V\" morphofeat=\"VBG\">\n",
    "      <span>\n",
    "        <target id=\"w1\" />\n",
    "      </span>\n",
    "      <externalReferences>\n",
    "        <externalRef resource=\"wn30g.bin64\" reference=\"ili-30-02700104-v\" confidence=\"0.732195\" />\n",
    "        <externalRef resource=\"wn30g.bin64\" reference=\"ili-30-02255268-v\" confidence=\"0.267805\" />\n",
    "        <externalRef resource=\"WordNet-3.0\" reference=\"ili-30-02700104-v\" confidence=\"0.59329313\" />\n",
    "        <externalRef resource=\"WordNet-3.0\" reference=\"ili-30-02255268-v\" confidence=\"0.40670687\" />\n",
    "      </externalReferences>\n",
    "    </term>\n",
    "```    \n",
    "the dictionary would be update with the:\n",
    "    a) KEY: 1 (integer)\n",
    "    b) VALUE: 'accord'"
   ]
  },
  {
   "cell_type": "code",
   "execution_count": null,
   "metadata": {
    "collapsed": true
   },
   "outputs": [],
   "source": [
    "def load_mapping_tid2token(doc):\n",
    "    \"\"\"\n",
    "    given a loaded xml file (doc) of type lxml.etree._ElementTree\n",
    "    create a dictionary mapping all t_ids to their corresponding lemmas\n",
    "    \"\"\"\n",
    "    # your code here\n",
    "\n",
    "tid2lemma = load_mapping_tid2token(doc)"
   ]
  },
  {
   "cell_type": "markdown",
   "metadata": {},
   "source": [
    "### Step 2: Calling the helper functions and write to CoNLL\n",
    "Now call the helper functions in the for-loop at the top of this notebook. Complete this code by writing the output to a CoNLL file."
   ]
  },
  {
   "cell_type": "markdown",
   "metadata": {},
   "source": [
    "### Step 3: Moving the code to Python files\n",
    "Create two Python files: \n",
    "- `utils.py`: should contain all your helper functions\n",
    "- `converter.py`: should contain the main code (and import the helper functions)"
   ]
  },
  {
   "cell_type": "code",
   "execution_count": null,
   "metadata": {
    "collapsed": true
   },
   "outputs": [],
   "source": []
  }
 ],
 "metadata": {
  "anaconda-cloud": {},
  "kernelspec": {
   "display_name": "Python [default]",
   "language": "python",
   "name": "python3"
  },
  "language_info": {
   "codemirror_mode": {
    "name": "ipython",
    "version": 3
   },
   "file_extension": ".py",
   "mimetype": "text/x-python",
   "name": "python",
   "nbconvert_exporter": "python",
   "pygments_lexer": "ipython3",
   "version": "3.6.3"
  }
 },
 "nbformat": 4,
 "nbformat_minor": 1
}
