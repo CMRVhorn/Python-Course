{
 "cells": [
  {
   "cell_type": "markdown",
   "metadata": {},
   "source": [
    "# Ideas for a revised version of Assignment 3\n",
    "\n",
    "Plan: first go through most important point of the individual chapters, then combine them.\n",
    "\n",
    "Chapters:\n",
    "\n",
    "* Chapter 11 - Functions and scope\n",
    "* Chapter 12 - Importing external modules \n",
    "* Chapter 17 - Working with Python scripts (rename to Chapter 13)\n",
    "* Chapter 13 - Dealing with text files (rename 14)\n",
    "* Chapter 15 - Off to analyzing text \n"
   ]
  },
  {
   "cell_type": "markdown",
   "metadata": {},
   "source": [
    "## Functions & scope"
   ]
  },
  {
   "cell_type": "code",
   "execution_count": null,
   "metadata": {
    "collapsed": true
   },
   "outputs": [],
   "source": []
  }
 ],
 "metadata": {
  "kernelspec": {
   "display_name": "Python 3",
   "language": "python",
   "name": "python3"
  },
  "language_info": {
   "codemirror_mode": {
    "name": "ipython",
    "version": 3
   },
   "file_extension": ".py",
   "mimetype": "text/x-python",
   "name": "python",
   "nbconvert_exporter": "python",
   "pygments_lexer": "ipython3",
   "version": "3.6.1"
  }
 },
 "nbformat": 4,
 "nbformat_minor": 2
}
