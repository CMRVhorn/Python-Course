{
 "cells": [
  {
   "cell_type": "markdown",
   "metadata": {},
   "source": [
    "# Chapter 5 - Core concepts of containers\n",
    "In the next chapters, we will introduce the most important containers in the Python language: **lists**, **sets**, **tuples**, and **dictionaries**. However, before we introduce them, it's important that we present some things that they all share, which is the goal of this chapter."
   ]
  },
  {
   "cell_type": "markdown",
   "metadata": {},
   "source": [
    "**At the end of this chapter, you will be able to understand the following concepts:**\n",
    "* positional parameters\n",
    "* keyword parameters\n",
    "* [positional-only arguments](https://deepsource.io/blog/python-positional-only-arguments/)\n",
    "* mutability"
   ]
  },
  {
   "cell_type": "markdown",
   "metadata": {},
   "source": [
    "**If you want to learn more about these topics, you might find the following links useful:**\n",
    "* [the Python glossary](https://docs.python.org/3/glossary.html): please look for the terms *immutable*, *parameter*, and *argument*\n",
    "* [What is the difference between arguments and parameters?](https://docs.python.org/3/faq/programming.html#faq-argument-vs-parameter)"
   ]
  },
  {
   "cell_type": "markdown",
   "metadata": {},
   "source": [
    "If you have **questions** about this chapter, please contact **Marten (m.c.postma@vu.nl)**."
   ]
  },
  {
   "cell_type": "markdown",
   "metadata": {},
   "source": [
    "## 1. Containers\n",
    "\n",
    "When working with data, we use different Python objects (which we summarize **containers**) to order data in a way that is convenient for the task we are trying to solve. Each of the following container types has different advantages for storing and accessing data (which you will learn about in the following chapters):\n",
    "\n",
    "* lists\n",
    "* tuples\n",
    "* sets\n",
    "* dictionaries\n",
    "\n",
    "Each container type can be manipulated using different methods and functions, for instance, allowing us to add, access, or remove data. It is important that you understand those."
   ]
  },
  {
   "cell_type": "code",
   "execution_count": null,
   "metadata": {},
   "outputs": [],
   "source": [
    "# Some examples (you do not have to remember this now):\n",
    "\n",
    "a_list = [1,2,3, \"let's\", \"use\", \"containers\"]\n",
    "a_tuple = (1, 2, 3, \"let's\", \"use\", \"containers\")\n",
    "a_set = {1, 2, 3, \"let's\", \"use\", \"containers\"}\n",
    "a_dict = {1:\"let's\",  2:\"use\", 3: \"containers\"}\n",
    "\n",
    "#print(a_list)\n",
    "#print(a_tuple)\n",
    "#print(a_set)\n",
    "#print(a_dict)"
   ]
  },
  {
   "cell_type": "markdown",
   "metadata": {},
   "source": [
    "## 2. Understanding class methods\n",
    "Let's look at some string method examples from the last chapters:"
   ]
  },
  {
   "cell_type": "code",
   "execution_count": null,
   "metadata": {},
   "outputs": [],
   "source": [
    "a_string = 'hello world'\n",
    "print('example 1. upper method:', a_string.upper())\n",
    "print('example 2. count method:', a_string.count('l'))\n",
    "print('example 3. replace method:', a_string.replace('l', 'b'))\n",
    "print('example 4. split method:', a_string.split())\n",
    "print('example 5. split method:', a_string.split(sep='o'))"
   ]
  },
  {
   "cell_type": "markdown",
   "metadata": {},
   "source": [
    "In all of the examples above, a string method is called, e.g., *upper* or *count*.\n",
    "However, they differ regarding their arguments:\n",
    "* There are no arguments in the case of upper, i.e., no arguments between the round brackets.\n",
    "* for count, we specify a string 'l' as an argument\n",
    "* for replace, we specify two strings as arguments\n",
    "* for split, we can specify an argument, but we do not have to\n",
    "\n",
    "This might look a bit confusing. Luckily Python has a built-in function **help**, which provides us insight into how to use each method. We will guide you through understanding the information provided for the string method **replace**."
   ]
  },
  {
   "cell_type": "code",
   "execution_count": null,
   "metadata": {},
   "outputs": [],
   "source": [
    "help(str.replace)"
   ]
  },
  {
   "cell_type": "markdown",
   "metadata": {},
   "source": [
    "The method documentation contains three parts:\n",
    "1. **data structure**: sentence starting with *Help on*. This simply indicates the data structure for which information is shown, which is a method in this case.\n",
    "2. **parameters**: information about the parameters of the method, i.e., **replace(self, old, new, count=-1, /)**. This is the most important part of the documentation.\n",
    "3. **docstring**: explanation about the method in free text"
   ]
  },
  {
   "cell_type": "markdown",
   "metadata": {},
   "source": [
    "Let's go through the parameters of the string method **replace**:\n",
    "* *self*: for now, the only thing to remember about *self* is that it tells you that replace is a method and that you should ignore it when calling the method!\n",
    "* *old*: this is a positional parameter\n",
    "* *new*: this is a positional parameter\n",
    "* *count=-1*: this is a keyword parameter, meaning that it has a default value, i.e., -1\n",
    "* */* (forward slash): for now, please ignore, we will come back to this."
   ]
  },
  {
   "cell_type": "markdown",
   "metadata": {},
   "source": [
    "In the enumeration above, we've used the terms **positional parameter** and **keyword parameter**. What are they, and in what do they differ?\n",
    "* Positional parameters are **compulsory** to call a method. Without them, you will not successfully call the method.\n",
    "* Keyword parameters are **optional**. They have a default value, e.g., -1 in the case of *count*, and are optional."
   ]
  },
  {
   "cell_type": "markdown",
   "metadata": {},
   "source": [
    "Let's put this to the test! Since **positional parameters** are needed to call our method, we should be able to call the method by specifying a value for *old* and *new*, but not for *count*. The value for *old* is 'r', and the value for *new* is 'c'."
   ]
  },
  {
   "cell_type": "code",
   "execution_count": null,
   "metadata": {},
   "outputs": [],
   "source": [
    "a_string = 'rats are the best.'\n",
    "result = a_string.replace('r', 'c') \n",
    "print(result)"
   ]
  },
  {
   "cell_type": "markdown",
   "metadata": {},
   "source": [
    "It worked! We've called the string method by only providing a value for the positional parameters. However, what if we are not happy with the provided default value, can we override it?\n",
    "Let's try this. The keyword parameter *count* allows us to indicate how many times to replace a substring. Let's try to only replace 'r' to 'c' one time."
   ]
  },
  {
   "cell_type": "code",
   "execution_count": null,
   "metadata": {},
   "outputs": [],
   "source": [
    "a_string = 'rats are the best.'\n",
    "result = a_string.replace('r', 'c', 1) \n",
    "print(result)"
   ]
  },
  {
   "cell_type": "markdown",
   "metadata": {},
   "source": [
    "Yes! We've provided a value for *count*, e.g., 1, and now 'r' is only replaced once with 'c'. Luckily, the 'r' in 'are' has not been replaced."
   ]
  },
  {
   "cell_type": "markdown",
   "metadata": {},
   "source": [
    "We will now move on to the string method **split**."
   ]
  },
  {
   "cell_type": "code",
   "execution_count": null,
   "metadata": {},
   "outputs": [],
   "source": [
    "help(str.split)"
   ]
  },
  {
   "cell_type": "markdown",
   "metadata": {},
   "source": [
    "Let's go through the parameters of the string method **split**:\n",
    "* *self*: for now, the only thing to remember about *self* is that it tells you that replace is a method and that you should ignore it in calling the method!\n",
    "* */* (forward slash): for now, please ignore, we will come back to this.\n",
    "* *sep=None*: this is a keyword parameter, meaning that it has a default value, i.e., None.\n",
    "* *maxsplit=-1*: this is a keyword parameter, by which you can indicate how many times to split."
   ]
  },
  {
   "cell_type": "markdown",
   "metadata": {},
   "source": [
    "Since **split** has no positional parameters, we should be able to call the method without providing arguments."
   ]
  },
  {
   "cell_type": "code",
   "execution_count": null,
   "metadata": {},
   "outputs": [],
   "source": [
    "a_string = 'USA Today has come out with a new survey: Apparently three out of four people make up 75 percent of the population.'\n",
    "words = a_string.split()\n",
    "print(words)"
   ]
  },
  {
   "cell_type": "markdown",
   "metadata": {},
   "source": [
    "And that is correct! Of course, we can specify a value for the keyword parameters. We provide the a space ' ' for *sep* and 2 for *maxsplit*."
   ]
  },
  {
   "cell_type": "code",
   "execution_count": null,
   "metadata": {},
   "outputs": [],
   "source": [
    "a_string = 'USA Today has come out with a new survey: Apparently three out of four people make up 75 percent of the population.'\n",
    "words = a_string.split(' ', 2)\n",
    "print(words)"
   ]
  },
  {
   "cell_type": "markdown",
   "metadata": {},
   "source": [
    "Please note that we have splitted the string on a space ' ' two times."
   ]
  },
  {
   "cell_type": "markdown",
   "metadata": {},
   "source": [
    "## 2.1 The forward slash\n",
    "So far, we have not explained the forward slash in the parameters. Here, we highlight its importance to calling a method. We show two examples. The main question is the following: why is the first call successful, and why does the second call result in error?"
   ]
  },
  {
   "cell_type": "code",
   "execution_count": null,
   "metadata": {},
   "outputs": [],
   "source": [
    "a_string = 'USA Today has come out with a new survey: Apparently three out of four people make up 75 percent of the population.'\n",
    "words = a_string.split(sep=' ', maxsplit=2)\n",
    "print(words)"
   ]
  },
  {
   "cell_type": "code",
   "execution_count": null,
   "metadata": {},
   "outputs": [],
   "source": [
    "a_string = 'rats are the best.'\n",
    "result = a_string.replace('r', 'c', count=1) "
   ]
  },
  {
   "cell_type": "markdown",
   "metadata": {},
   "source": [
    "For the answer, we need to go back to the function parameters:\n",
    "* **replace**: replace(self, old, new, count=-1, /)\n",
    "* **split**: split(self, /, sep=None, maxsplit=-1)"
   ]
  },
  {
   "cell_type": "markdown",
   "metadata": {},
   "source": [
    "Please note that the difference is that *count* is to the **left** of the forward slash, and *sep* and *maxsplit* are to the **right** of the forward slash! We can call any parameter to the right of the forward slash using the name of the parameter. For any parameter to the left of the forward slash, we can only provide the value."
   ]
  },
  {
   "cell_type": "markdown",
   "metadata": {},
   "source": [
    "This does work:"
   ]
  },
  {
   "cell_type": "code",
   "execution_count": null,
   "metadata": {},
   "outputs": [],
   "source": [
    "a_string = 'rats are the best.'\n",
    "result = a_string.replace('r', 'c', 1) \n",
    "print(result)"
   ]
  },
  {
   "cell_type": "markdown",
   "metadata": {},
   "source": [
    "This does not."
   ]
  },
  {
   "cell_type": "code",
   "execution_count": null,
   "metadata": {},
   "outputs": [],
   "source": [
    "a_string = 'rats are the best.'\n",
    "result = a_string.replace('r', 'c', count=1) "
   ]
  },
  {
   "cell_type": "markdown",
   "metadata": {},
   "source": [
    "**Summary**:\n",
    "* ignore **self**\n",
    "* **positional parameters** are mandatory to call a method\n",
    "* **keyword parameters** are optional since they have a default value\n",
    "* any parameter to the right of the forward slash, we can call using the name of the parameter. \n",
    "* any parameter to the left of the forward slash, we can only provide the value."
   ]
  },
  {
   "cell_type": "markdown",
   "metadata": {},
   "source": [
    "For those interested in understanding it in more detail, please check the link about **positional-only arguments** at the top of this notebook."
   ]
  },
  {
   "cell_type": "markdown",
   "metadata": {},
   "source": [
    "## 3. Mutability\n",
    "Hopefully, it will become clear in the following chapters what we mean by **mutability**. For now, you can think of it in terms of 'can I change the data?'. Please remember the following categories for the subsequent chapters:"
   ]
  },
  {
   "cell_type": "markdown",
   "metadata": {},
   "source": [
    "| **immutable**   | **mutable** | \n",
    "|-----------------|-------------|\n",
    "|   integer       |  list       |\n",
    "|   string        |  set        |\n",
    "|     -           |  dictionary |\n"
   ]
  },
  {
   "cell_type": "markdown",
   "metadata": {},
   "source": [
    "You have already seen a little bit about strings and immutability in Chapter 3. To change a string, we have to create a new one. In contrast, you will learn that many containers can be modified. "
   ]
  },
  {
   "cell_type": "markdown",
   "metadata": {},
   "source": [
    "# Exercises\n",
    "\n",
    "Please find some exercises about core concepts of python containers below. "
   ]
  },
  {
   "cell_type": "markdown",
   "metadata": {},
   "source": [
    "### Exercise 1: \n",
    "Use the help function to figure out what the string methods below are doing. Then analyze how many positional and keyword parameters are used in the following examples:"
   ]
  },
  {
   "cell_type": "code",
   "execution_count": null,
   "metadata": {},
   "outputs": [],
   "source": [
    "print(a_string.lower())\n",
    "print(a_string.strip())\n",
    "print(a_string.strip('an'))\n",
    "print(a_string.partition('and'))"
   ]
  },
  {
   "cell_type": "markdown",
   "metadata": {},
   "source": [
    "### Exercise 2: \n",
    "\n",
    "Please illustrate the difference between positional and keyword parameters using the example of string methods. Feel free to use dir(str) and the help function for inspiration."
   ]
  },
  {
   "cell_type": "code",
   "execution_count": null,
   "metadata": {},
   "outputs": [],
   "source": [
    "# your examples here"
   ]
  }
 ],
 "metadata": {
  "anaconda-cloud": {},
  "kernelspec": {
   "display_name": "Python 3",
   "language": "python",
   "name": "python3"
  },
  "language_info": {
   "codemirror_mode": {
    "name": "ipython",
    "version": 3
   },
   "file_extension": ".py",
   "mimetype": "text/x-python",
   "name": "python",
   "nbconvert_exporter": "python",
   "pygments_lexer": "ipython3",
   "version": "3.8.5"
  }
 },
 "nbformat": 4,
 "nbformat_minor": 4
}
