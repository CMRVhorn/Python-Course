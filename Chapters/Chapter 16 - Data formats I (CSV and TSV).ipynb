{
 "cells": [
  {
   "cell_type": "markdown",
   "metadata": {},
   "source": [
    "# Chapter 16: Data formats I (CSV and TSV)\n",
    "\n",
    "You probably have heard of (or are already quite familiar with) different data formats, such as plain text, tables (CSV/TSV), XML, JSON and RDF. These formats are simply the result of agreements that were made between people on how to organize and store data. Some of these formats, such as XML and RDF, have a high degree of structure, whereas plain text is a typical example of unstructured data. Structuring data according to predefined specifications allows information in the data to be easily ordered and processed by machines. You can compare highly structured data with a perfectly organized filing cabinet where everything is identified, labeled and easy to access. \n",
    "\n",
    "This notebook introduces tabular formats: CSV/TSV. \n",
    "\n",
    "**At the end of this chapter, you will be able to:**\n",
    "* read CSV/TSV data\n",
    "* manipulate CSV/TSV data\n",
    "* write CSV/TSV data\n",
    "\n",
    "**If you want to learn more about these topics, you might find the following links useful:**\n",
    "* [Tutorial: Reading and Manipulating CSV Files](https://newcircle.com/s/post/1572/python_for_beginners_reading_and_manipulating_csv_files)\n",
    "\n",
    "If you have **questions** about this chapter, please send an email to \n",
    "**python1819vu@googlegroups.com**. "
   ]
  },
  {
   "cell_type": "markdown",
   "metadata": {},
   "source": [
    "## 1. Introduction to CSV and TSV (tables)\n",
    "The **table** is probably one of the most common and intuitive data formats. Undoubtedly, you have already worked with tabular data in Excel, Numbers or Google Sheets. A table represents a set of data points as a series of rows, with a column for each of the data points' properties. In other words: a table has vertical **columns** (often identifiable by name) and horizontal **rows**, and the **cells** are the unit where a row and column intersect. Tabular data can be encoded as **CSV (comma-separated values) or TSV (tab-separated values)**. CSV and TSV files are simply plain text files in which each line represents a row and the columns are separated by a comma (for CSV) or a tab character (for TSV)."
   ]
  },
  {
   "cell_type": "markdown",
   "metadata": {},
   "source": [
    "You can find examples of CSV files in the folder `../Data/baby_names/names_by_state`. If you like, open them in a text editor (e.g. [Atom](https://atom.io/), [BBEdit](https://www.barebones.com/products/bbedit/download.html) or [Notepad++](https://notepad-plus-plus.org)) or Excel (convert text to columns by using the comma as delimiter) to see their content. For example, these are the first 10 rows of the csv file `AK.TXT`:\n",
    "\n",
    "CSV            |  \n",
    ":-------------------------:|:-------------------------:\n",
    "![box](./images/csv.png)  |\n",
    "\n",
    "A TSV file would look like this:\n",
    "\n",
    "TSV            |  \n",
    ":-------------------------:|:-------------------------:\n",
    "![box](./images/tsv.png)  |\n",
    "\n",
    "\n",
    "The file `AK.TXT` contains a list of names given to children in the state Alaska from 1910 to 2015 with their frequency. Each line in this file has five elements, which are separated by commas: \n",
    "\n",
    "- the state abbreviation (AK for Alaska)\n",
    "- gender (F/M)\n",
    "- year\n",
    "- name\n",
    "- frequency of that name in the given year and state \n",
    "\n",
    "Below, we will work towards representing this data in Python as a **list of lists** (i.e. nested list), or as a **list of dicts**. In both cases, the elements of the (first) list represent the complete rows. The individual rows, then, can be either represented as a list (without column names) or as a dictionary (with column names).\n",
    "\n",
    "LIST OF LISTS            |  LIST OF DICTS\n",
    ":-------------------------:|:-------------------------:\n",
    "![box](./images/list_of_lists.png)  |  ![box](./images/list_of_dicts.png)"
   ]
  },
  {
   "cell_type": "markdown",
   "metadata": {},
   "source": [
    "## 2. Reading CSV files\n",
    "\n",
    "Because CSV/TSV files are essentially text files, we can open and read them in the same way as we have seen before:"
   ]
  },
  {
   "cell_type": "code",
   "execution_count": null,
   "metadata": {
    "collapsed": true
   },
   "outputs": [],
   "source": [
    "# Read the file and print its content \n",
    "filename = \"../Data/baby_names/names_by_state/AK.TXT\"\n",
    "with open(filename, \"r\") as csvfile:\n",
    "    content = csvfile.read()\n",
    "    print(content)"
   ]
  },
  {
   "cell_type": "markdown",
   "metadata": {},
   "source": [
    "Please also have a close look at the internal representation of the file. Do you see how the columns are separated by commas, and the rows by newline characters `\\n`?"
   ]
  },
  {
   "cell_type": "code",
   "execution_count": null,
   "metadata": {
    "collapsed": true
   },
   "outputs": [],
   "source": [
    "print(repr(content))"
   ]
  },
  {
   "cell_type": "markdown",
   "metadata": {},
   "source": [
    "### 2.1 Reading rows as lists\n",
    "Now, let's see how we can get to the 'list of lists' representation. We can do that by iterating over each line of this file (as we have seen before), and then split each row into columns using the `split()` method:"
   ]
  },
  {
   "cell_type": "code",
   "execution_count": null,
   "metadata": {
    "collapsed": true
   },
   "outputs": [],
   "source": [
    "# Read the file and get all lines\n",
    "filename = \"../Data/baby_names/names_by_state/AK.TXT\"\n",
    "with open(filename, \"r\") as csvfile:\n",
    "    csv_data = []\n",
    "    for row in csvfile:\n",
    "        row = row.strip(\"\\n\")      # remove all newlines\n",
    "        columns = row.split(\",\")   # split the line into columns\n",
    "        csv_data.append(columns) \n",
    "\n",
    "# Print only first 10 rows\n",
    "print(csv_data[:10])\n",
    "print()\n",
    "\n",
    "# Iterate over first 10 rows\n",
    "for row in csv_data[:10]:\n",
    "    print(row)"
   ]
  },
  {
   "cell_type": "markdown",
   "metadata": {},
   "source": [
    "It worked! The variable `csv_data` now contains a list of all rows in the file. Now we can easily work with the data by using the indices of the lists to access cells. Have a look at the following examples:"
   ]
  },
  {
   "cell_type": "code",
   "execution_count": null,
   "metadata": {
    "collapsed": true
   },
   "outputs": [],
   "source": [
    "# Example: print all information of the first 10 rows\n",
    "for row in csv_data[:10]:\n",
    "    state = row[0]\n",
    "    gender = row[1]\n",
    "    year = row[2]\n",
    "    name = row[3]\n",
    "    frequency = row[4]\n",
    "    print(state, gender, year, name, frequency)"
   ]
  },
  {
   "cell_type": "code",
   "execution_count": null,
   "metadata": {
    "collapsed": true
   },
   "outputs": [],
   "source": [
    "# Example: print all names given in 1912\n",
    "for row in csv_data:\n",
    "    year = row[2]\n",
    "    name = row[3]\n",
    "    if year == \"1912\":\n",
    "        print(name)"
   ]
  },
  {
   "cell_type": "markdown",
   "metadata": {},
   "source": [
    "### 2.2 Reading rows as dicts\n",
    "\n",
    "We can also create a 'list of dicts'. We do this by first creating a dictionary for each row, and appending that dictionary to the list of rows. Do you see that we also have already converted the numerical values to `int`?"
   ]
  },
  {
   "cell_type": "code",
   "execution_count": null,
   "metadata": {
    "collapsed": true
   },
   "outputs": [],
   "source": [
    "# Read the file and get all lines\n",
    "filename = \"../Data/baby_names/names_by_state/AK.TXT\"\n",
    "with open(filename, \"r\") as csvfile:\n",
    "    csv_data = []\n",
    "    for row in csvfile:\n",
    "        row = row.strip(\"\\n\")      # remove all newlines\n",
    "        columns = row.split(\",\")   # split the line into columns\n",
    "        \n",
    "        # Create a dictionary and add to list\n",
    "        dict_row = {\"state\": columns[0],\n",
    "                    \"gender\": columns[1],\n",
    "                    \"year\": int(columns[2]),\n",
    "                    \"name\": columns[3],\n",
    "                    \"frequency\": int(columns[4])}\n",
    "        csv_data.append(dict_row)\n",
    "\n",
    "# First 10 rows\n",
    "print(csv_data[:10])\n",
    "print()\n",
    "\n",
    "# Iterate over first 10 rows \n",
    "for row in csv_data[:10]:\n",
    "    print(row)"
   ]
  },
  {
   "cell_type": "markdown",
   "metadata": {},
   "source": [
    "Again, we can now easily work with the data, but now we use the *names* of the columns instead of indices to access the cells. This can make the code more readable. Have a look at the following examples:"
   ]
  },
  {
   "cell_type": "code",
   "execution_count": null,
   "metadata": {
    "collapsed": true
   },
   "outputs": [],
   "source": [
    "# Example: print all information of the first 5 rows\n",
    "for row in csv_data[:5]:\n",
    "    for column_name, column_value in row.items():\n",
    "        print(column_name, \"=\", column_value)\n",
    "    print()"
   ]
  },
  {
   "cell_type": "code",
   "execution_count": null,
   "metadata": {
    "collapsed": true
   },
   "outputs": [],
   "source": [
    "# Example: print all names given in 1912\n",
    "for row in csv_data:\n",
    "    if row[\"year\"] == \"1912\":\n",
    "        print(row[\"name\"])"
   ]
  },
  {
   "cell_type": "markdown",
   "metadata": {},
   "source": [
    "It does not really matter whether you choose for a 'list of lists' or a 'list of dicts'. Just use the one that you prefer."
   ]
  },
  {
   "cell_type": "markdown",
   "metadata": {},
   "source": [
    "## 3. Writing CSV files\n",
    "\n",
    "Let's say now we have a table in Python stored as a 'list of lists' or as a 'list of dicts' and we want to store our result in a CSV file. This is basically the inverse process of reading a CSV file. "
   ]
  },
  {
   "cell_type": "markdown",
   "metadata": {},
   "source": [
    "### 3.1 Writing rows as lists\n",
    "\n",
    "In order to write a list of lists as a CSV file, we need to iterate over the rows and make a string out of them. Remember that we can concatenate strings in a list with any separator with the `join()` method:"
   ]
  },
  {
   "cell_type": "code",
   "execution_count": null,
   "metadata": {
    "collapsed": true
   },
   "outputs": [],
   "source": [
    "a_list = [\"John\", \"john@example.nl\", \"555-1234\"]\n",
    "a_string = \",\".join(a_list)\n",
    "print(a_string)"
   ]
  },
  {
   "cell_type": "markdown",
   "metadata": {},
   "source": [
    "In addition, we should use the newline character `\\n` to write each row on a line."
   ]
  },
  {
   "cell_type": "code",
   "execution_count": null,
   "metadata": {
    "collapsed": true
   },
   "outputs": [],
   "source": [
    "# Create list of lists\n",
    "address_book = [\n",
    "    [\"John\", \"john@example.nl\", \"555-1234\"],\n",
    "    [\"William\", \"william@example.nl\", \"555-5678\"],\n",
    "    [\"Jane\", \"jane@example.nl\", \"555-7777\"]\n",
    "]\n",
    "\n",
    "# Write the list of lists to a CSV file\n",
    "outfilename = \"../Data/address_book.csv\"\n",
    "with open(outfilename, \"w\") as outfile:\n",
    "    for row in address_book:\n",
    "        line = \",\".join(row) + '\\n'\n",
    "        outfile.write(line)"
   ]
  },
  {
   "cell_type": "markdown",
   "metadata": {},
   "source": [
    "### 3.2 Writing rows as dicts\n",
    "\n",
    "In order to write a list of dicts to a CSV file, we need to first get all the values in each dictionary. The rest works exactly the same. In the following code, we use the tab separator `\\t` and save it with the `.tsv` extension."
   ]
  },
  {
   "cell_type": "code",
   "execution_count": null,
   "metadata": {
    "collapsed": true
   },
   "outputs": [],
   "source": [
    "# Create list of dicts\n",
    "address_book = [\n",
    "    {\"name\":\"John\", \"e-mail\":\"john@example.nl\", \"phone\":\"555-1234\"},\n",
    "    {\"name\":\"William\", \"e-mail\":\"william@example.nl\", \"phone\":\"555-5678\"},\n",
    "    {\"name\":\"Jane\", \"e-mail\":\"john@example.nl\", \"phone\":\"555-7777\"}\n",
    "]\n",
    "\n",
    "# Write the list of dicts to a TSV file\n",
    "outfilename = \"../Data/csv_data/address_book.tsv\"\n",
    "with open(outfilename, \"w\") as outfile:    \n",
    "    \n",
    "    # Write the rows using the values of the dictionaries\n",
    "    for row in address_book:\n",
    "        column_values = row.values()\n",
    "        line = \"\\t\".join(column_values) + '\\n'\n",
    "        outfile.write(line)"
   ]
  },
  {
   "cell_type": "markdown",
   "metadata": {},
   "source": [
    "## 3. EXTRA: More complex example (using CSV module)\n",
    "\n",
    "The approaches shown above works for many CSV files. However, some are a bit more complex. An example is the file `debate.csv` in the folder `../Data/csv_data`. This file contains transcripts of the 2016 (vice-)presidential debate from 26 September to 9 October. Let's have a look:"
   ]
  },
  {
   "cell_type": "code",
   "execution_count": null,
   "metadata": {
    "collapsed": true
   },
   "outputs": [],
   "source": [
    "# Read the file and print its content \n",
    "filename = \"../Data/csv_data/debate.csv\"\n",
    "with open(filename, \"r\") as csvfile:\n",
    "    content = csvfile.read()\n",
    "    print(content[0:2000]) # only print first 2000 characters"
   ]
  },
  {
   "cell_type": "markdown",
   "metadata": {},
   "source": [
    "This file contains 5 columns that are also separated by commas:\n",
    "\n",
    "- Line\n",
    "- Speaker\n",
    "- Text\n",
    "- Date\n",
    "\n",
    "We can, however, notice two differences with the previous CSV file: this file contains a **header** and there are **double quotation marks** that are used to surround some of the cells. There is a good reason for these quotation marks. Some of the cells contain longer strings that have commas in them. These commas should be ignored when splitting the rows into columns. The quotation marks are thus a signal saying: \"treat the part between quotation marks as one unit\". Our previous approach does not account for this. Therefore, it will NOT work on this file, as illustrated below:"
   ]
  },
  {
   "cell_type": "code",
   "execution_count": null,
   "metadata": {
    "collapsed": true
   },
   "outputs": [],
   "source": [
    "# Read the file and print its content\n",
    "filename = \"../Data/csv_data/debate.csv\"\n",
    "with open(filename, \"r\") as csvfile:\n",
    "    csv_data = []\n",
    "    for row in csvfile:\n",
    "        row = row.strip(\"\\n\")      # remove all newlines\n",
    "        columns = row.split(\",\")   # split the line into columns\n",
    "        csv_data.append(columns) \n",
    "\n",
    "# Print first 5 rows and their number of columns\n",
    "for row in csv_data[:5]:\n",
    "    print(f\"This row is split into {len(row)} columns\")\n",
    "    print(row)\n",
    "    print()"
   ]
  },
  {
   "cell_type": "markdown",
   "metadata": {},
   "source": [
    "You may have ideas for a fix regarding this specific file and surely you will eventually find a good solution for it. However, for these more complex CSV files, we recommend that you make use of the **[csv module](https://docs.python.org/3/library/csv.html)**."
   ]
  },
  {
   "cell_type": "code",
   "execution_count": null,
   "metadata": {
    "collapsed": true
   },
   "outputs": [],
   "source": [
    "import csv"
   ]
  },
  {
   "cell_type": "markdown",
   "metadata": {},
   "source": [
    "We will focus on the following methods:\n",
    "* **to read/write CSV/TSV with lists**: the methods `csv.reader()` and `csv.writer()`\n",
    "* **to write CSV/TSV with dicts**: the methods `csv.DictReader()` and `csv.DictWriter()`"
   ]
  },
  {
   "cell_type": "markdown",
   "metadata": {},
   "source": [
    "### 3.1 Reading and writing rows as lists\n",
    "Below, you can find an example of how to use **`csv.reader()`** to convert the data to a list of lists. Note that the keyword arguments `delimiter` and `quotechar` further specify how the file should be read."
   ]
  },
  {
   "cell_type": "code",
   "execution_count": null,
   "metadata": {
    "collapsed": true
   },
   "outputs": [],
   "source": [
    "filename = \"../Data/csv_data/debate.csv\"\n",
    "with open(filename, \"r\") as csvfile:\n",
    "    csv_data = []\n",
    "    csv_reader = csv.reader(csvfile, delimiter=',', quotechar='\"')\n",
    "    for row in csv_reader:\n",
    "        csv_data.append(row)"
   ]
  },
  {
   "cell_type": "code",
   "execution_count": null,
   "metadata": {
    "collapsed": true
   },
   "outputs": [],
   "source": [
    "# Print only first 5 rows\n",
    "for row in csv_data[:5]:\n",
    "    print(row)"
   ]
  },
  {
   "cell_type": "markdown",
   "metadata": {},
   "source": [
    "Writing a CSV file with the `csv` module works quite similar. In the code block below, we write our data back to a TSV file, using the `\\t` as a delimiter and using double quotes as quote characters. `quoting=csv.QUOTE_MINIMAL` instructs the writer object to only quote those fields which contain special characters; see the [documentation](https://docs.python.org/3/library/csv.html) for other options. `writerows()` can be used to write multiple rows (list of lists); `writerow()` can be used to write a single row (a list). The code below uses both; `writerow()` for writing the header and `writerow()` for the rest of the rows."
   ]
  },
  {
   "cell_type": "code",
   "execution_count": null,
   "metadata": {
    "collapsed": true
   },
   "outputs": [],
   "source": [
    "outfilename = \"../Data/csv_data/debate.tsv\"\n",
    "with open(outfilename, \"w\") as outfile:\n",
    "    header = [\"Line\", \"Speaker\", \"Text\", \"Date\"]\n",
    "    csv_writer = csv.writer(outfile, delimiter='\\t', quotechar='\"', quoting=csv.QUOTE_MINIMAL)\n",
    "    csv_writer.writerow(header)\n",
    "    csv_writer.writerows(csv_data)"
   ]
  },
  {
   "cell_type": "markdown",
   "metadata": {},
   "source": [
    "### 3.1 Reading and writing rows as dicts\n",
    "Below, you can find an example of how to use **`csv.DictReader`** to convert the data to a list of dicts using `csv.DictReader()`:"
   ]
  },
  {
   "cell_type": "code",
   "execution_count": null,
   "metadata": {
    "collapsed": true
   },
   "outputs": [],
   "source": [
    "filename = \"../Data/csv_data/debate.csv\"\n",
    "with open(filename, \"r\") as csvfile:\n",
    "    csv_data = []\n",
    "    csv_reader = csv.DictReader(csvfile, delimiter=',', quotechar='\"')\n",
    "    for row in csv_reader:\n",
    "        csv_data.append(row)"
   ]
  },
  {
   "cell_type": "markdown",
   "metadata": {},
   "source": [
    "You will notice that the data is represented as an `OrderedDict`. For now, you don't have to worry about the difference between a regular `dict` and an `OrderedDict`. Just remember that you can use them both in the same way."
   ]
  },
  {
   "cell_type": "code",
   "execution_count": null,
   "metadata": {
    "collapsed": true
   },
   "outputs": [],
   "source": [
    "# Print only first 5 rows\n",
    "for row in csv_data[:5]:\n",
    "    print(row)"
   ]
  },
  {
   "cell_type": "markdown",
   "metadata": {},
   "source": [
    "Accessing values in the `OrderedDict` works the same as with a regular `dict`:"
   ]
  },
  {
   "cell_type": "code",
   "execution_count": null,
   "metadata": {
    "collapsed": true,
    "scrolled": true
   },
   "outputs": [],
   "source": [
    "# Example: print all texts produced by the Audience\n",
    "for row in csv_data:\n",
    "    if row[\"Speaker\"] == \"Audience\":\n",
    "        print(row[\"Text\"])"
   ]
  },
  {
   "cell_type": "markdown",
   "metadata": {},
   "source": [
    "For writing a list of dicts, we use **`csv.DictWriter`**, which requires the `fieldnames` parameter specifying the header.  `writeheader()` is used to write a row with these specified fieldnames, as illustrated below:"
   ]
  },
  {
   "cell_type": "code",
   "execution_count": null,
   "metadata": {
    "collapsed": true
   },
   "outputs": [],
   "source": [
    "outfilename = \"../Data/csv_data/debate.tsv\"\n",
    "with open(outfilename, \"w\") as outfile:\n",
    "    header = csv_data[0].keys()       # use the keys of the first row as header\n",
    "    csv_writer = csv.DictWriter(outfile, fieldnames=header, delimiter='\\t', \n",
    "                                quotechar='\"', quoting=csv.QUOTE_MINIMAL)\n",
    "    csv_writer.writeheader()          # first write the header\n",
    "    csv_writer.writerows(csv_data)    # then write the rows"
   ]
  },
  {
   "cell_type": "markdown",
   "metadata": {},
   "source": [
    "## Exercises"
   ]
  },
  {
   "cell_type": "markdown",
   "metadata": {},
   "source": [
    "### Exercise 1:\n",
    "Have another look at the code below. Can you predict what would happen if you skip some of the steps? How will the data be different?"
   ]
  },
  {
   "cell_type": "code",
   "execution_count": null,
   "metadata": {
    "collapsed": true
   },
   "outputs": [],
   "source": [
    "filename = \"../Data/baby_names/names_by_state/AK.TXT\"\n",
    "with open(filename, \"r\") as csvfile:\n",
    "    csv_data = []\n",
    "    for row in csvfile:\n",
    "        #row = row.strip(\"\\n\")      # what would happen if you skip this step?\n",
    "        columns = row.split(\",\")   \n",
    "        csv_data.append(columns) \n",
    "print(csv_data[0:2])"
   ]
  },
  {
   "cell_type": "code",
   "execution_count": null,
   "metadata": {
    "collapsed": true
   },
   "outputs": [],
   "source": [
    "filename = \"../Data/baby_names/names_by_state/AK.TXT\"\n",
    "with open(filename, \"r\") as csvfile:\n",
    "    csv_data = []\n",
    "    for row in csvfile:\n",
    "        row = row.strip(\"\\n\")      \n",
    "        #columns = row.split(\",\")   # what would happen if you skip this step?\n",
    "        csv_data.append(row)        # replaced columns by row\n",
    "print(csv_data[0:2])"
   ]
  },
  {
   "cell_type": "markdown",
   "metadata": {},
   "source": [
    "### Exercise 2:\n",
    "Read the csv data in `AK.TXT` and store it as a **list of lists**. Now print the following:\n",
    "- all names that started with an M given in 1990\n",
    "- all unique female names (hint: create a set)\n",
    "- all names that were given more than 30 times in a certain year (print name+year)\n",
    "- all unique names longer than 8 letters given between 1985 and 1990"
   ]
  },
  {
   "cell_type": "code",
   "execution_count": null,
   "metadata": {
    "collapsed": true
   },
   "outputs": [],
   "source": []
  },
  {
   "cell_type": "code",
   "execution_count": null,
   "metadata": {
    "collapsed": true
   },
   "outputs": [],
   "source": []
  },
  {
   "cell_type": "code",
   "execution_count": null,
   "metadata": {
    "collapsed": true
   },
   "outputs": [],
   "source": []
  },
  {
   "cell_type": "code",
   "execution_count": null,
   "metadata": {
    "collapsed": true
   },
   "outputs": [],
   "source": []
  },
  {
   "cell_type": "markdown",
   "metadata": {},
   "source": [
    "Read the csv data in `AK.TXT` and store it as a **list of dicts**. Now print the following:\n",
    "- all names that started with an M given in 1990\n",
    "- all unique female names (hint: create a set)\n",
    "- all names that were given more than 30 times in a certain year (print name+year)\n",
    "- all unique names longer than 8 letters given between 1985 and 1990"
   ]
  },
  {
   "cell_type": "code",
   "execution_count": null,
   "metadata": {
    "collapsed": true
   },
   "outputs": [],
   "source": []
  },
  {
   "cell_type": "code",
   "execution_count": null,
   "metadata": {
    "collapsed": true
   },
   "outputs": [],
   "source": []
  },
  {
   "cell_type": "code",
   "execution_count": null,
   "metadata": {
    "collapsed": true
   },
   "outputs": [],
   "source": []
  },
  {
   "cell_type": "code",
   "execution_count": null,
   "metadata": {
    "collapsed": true
   },
   "outputs": [],
   "source": []
  },
  {
   "cell_type": "markdown",
   "metadata": {},
   "source": [
    "### Exercise 3:\n",
    "Can you think of a way to add a header to the TSV file below? Hint: make use of the dictionary keys."
   ]
  },
  {
   "cell_type": "code",
   "execution_count": null,
   "metadata": {
    "collapsed": true
   },
   "outputs": [],
   "source": [
    "# Create list of dicts\n",
    "address_book = [\n",
    "    {\"name\":\"John\", \"e-mail\":\"john@example.com\", \"phone\":\"555-1234\"},\n",
    "    {\"name\":\"William\", \"e-mail\":\"william@example.com\", \"phone\":\"555-5678\"},\n",
    "    {\"name\":\"Jane\", \"e-mail\":\"john@example.com\", \"phone\":\"555-7777\"}\n",
    "]\n",
    "\n",
    "# Write the list of dicts to a TSV file\n",
    "outfilename = \"../Data/csv_data/address_book.tsv\"\n",
    "with open(outfilename, \"w\") as outfile:    \n",
    "    \n",
    "    # Write the header\n",
    "    # your code here\n",
    "    \n",
    "    # Write the rows using the values of the dictionaries\n",
    "    for row in address_book:\n",
    "        column_values = row.values()\n",
    "        line = \"\\t\".join(column_values) + '\\n'\n",
    "        outfile.write(line)"
   ]
  },
  {
   "cell_type": "markdown",
   "metadata": {},
   "source": [
    "### Exercise 4: \n",
    "Now *append* information about Jennifer and Justin (stored as a list) at the bottom of this `address_book.tsv` file (attention: make sure you do not overwrite the contents of the file)."
   ]
  },
  {
   "cell_type": "code",
   "execution_count": null,
   "metadata": {
    "collapsed": true
   },
   "outputs": [],
   "source": [
    "more_people = [\n",
    "    [\"Jennifer\", \"jennifer@example.com\", \"555-9876\"],\n",
    "    [\"Justin\", \"justin@example.com\", \"555-5555\"]\n",
    "]\n",
    "\n",
    "# Append the teacher data to the `address_book.tsv` file"
   ]
  },
  {
   "cell_type": "markdown",
   "metadata": {},
   "source": [
    "### Exercise 5: \n",
    "Create a function `load_tabular_data(filename, delimiter)` that receives the filename and a delimiter as input parameters, and returns the file content as a list of lines. Then we can call this function for CSV (with a comma as an argument) and for TSV (with a tabulator as an argument). Also make sure that `delimiter` is a keyword parameter, with a defaul value ','."
   ]
  },
  {
   "cell_type": "code",
   "execution_count": null,
   "metadata": {
    "collapsed": true
   },
   "outputs": [],
   "source": [
    "# Create your function here\n",
    "\n",
    "    \n",
    "# Now let's test the function\n",
    "csv_filename = \"../Data/baby_names/names_by_state/AK.TXT\"\n"
   ]
  }
 ],
 "metadata": {
  "kernelspec": {
   "display_name": "Python [default]",
   "language": "python",
   "name": "python3"
  },
  "language_info": {
   "codemirror_mode": {
    "name": "ipython",
    "version": 3
   },
   "file_extension": ".py",
   "mimetype": "text/x-python",
   "name": "python",
   "nbconvert_exporter": "python",
   "pygments_lexer": "ipython3",
   "version": "3.6.3"
  }
 },
 "nbformat": 4,
 "nbformat_minor": 2
}
