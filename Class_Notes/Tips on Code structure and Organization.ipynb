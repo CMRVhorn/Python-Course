{
 "cells": [
  {
   "cell_type": "markdown",
   "metadata": {},
   "source": [
    "## 1. Documentation\n",
    "\n",
    "Document what your code does:\n",
    "* Put inline comments\n",
    "* Use docstrings for functions\n",
    "* Add a Readme to your project, describing its overall idea + the purpose of the individual directories + instructions on how to run it\n",
    "* Credit the source of your data\n",
    "\n",
    "**Note:** Documentation that contradicts the code is worse than no documentation. Always make a priority of keeping this up-to-date when the code changes!\n",
    "\n",
    "## 2. Structure\n",
    "\n",
    "* Split your python code into multiple files: one main **Notebook** that runs the overall process, and some helper Python **(.py) files** with utility functions used by the main Notebook.\n",
    "* Use folders to separate your code from your data and from your documentation. For example, you can have a folder: `src` for your helper code, `data` for your data, and `docs` for your documentation.\n",
    "* The root of your project should not be cluttered with too many files. Here it is common to have your main Notebook/python file, a license file (optional), a readme, and a requirements file (optional).\n",
    "\n",
    "## 3. Code organization and writing\n",
    "* Write modular and extensible code: avoid spaghetti and ravioli code\n",
    "* Use the most local scope needed; only use global variables when you have to.\n",
    "* Do not overwrite/redefine system variables\n",
    "* Don't use camel case naming for variables\n",
    "* Use context managers\n",
    "* Avoid hardcoded values\n",
    "* Import modules once, before they are used for the first time\n",
    "* Try to use assert statements to ensure your program behaves as expected.\n",
    "* Test your program extensively with various edge cases.\n",
    "* For more specific directions, please consult the [PEP8 guidelines](https://www.python.org/dev/peps/pep-0008/).\n",
    "\n",
    "\n",
    "## 4. Github\n",
    "\n",
    "If you want, you can use github to collaborate with your teammate. If you work on your own, Github is still useful to keep a backup for your code (e.g. to account for unintentional deleting of files). \n",
    "\n",
    "**Version control systems** Github is the most famous version control system. A version control system, or VCS, tracks the history of changes as people and teams collaborate on projects together. As the project evolves, teams can run tests, fix bugs, and contribute new code with the confidence that any version can be recovered at any time. Developers can review project history to find out:\n",
    "\n",
    "* Which changes were made?\n",
    "* Who made the changes?\n",
    "* When were the changes made?\n",
    "* Why were changes needed?\n",
    "\n",
    "**Repositories** Code on Github is organized in repositories. A repository, or Git project, encompasses the entire collection of files and folders associated with a project, along with each file’s revision history. \n",
    "\n",
    "**Basic Github commands** For most cases, you will need only a few commands: \n",
    "* `clone` to download the contents of a repository\n",
    "* `init` to initiate a repository (you do this once to set up a repository)\n",
    "* `add` to add local code (new files and changes to old files) to your repository \n",
    "* `commit` and `push` to commit the added local changes to the global version of the repository\n",
    "* `pull` to retrieve the latest version of the project on the global repository\n",
    "* `status` to check which files have you changed locally and can be pushed to the global repository \n",
    "\n",
    "You can use github either through the command line, or through a GUI software, like [SourceTree](https://www.sourcetreeapp.com/).\n",
    "\n",
    "**Note:** Github is meant to be used for code and not for data. If you have large data files (in the range of megabytes or gigabytes), then please do not upload this data to github and store it in a different place instead (e.g. Dropbox).\n",
    "\n",
    "Please check [this](https://guides.github.com/introduction/git-handbook/) Getting started guide for more complete information. There are tons of other help pages on the internet.\n",
    "\n",
    "## 5. What to submit\n",
    "\n",
    "If you use Github, you can simply send us the link to your repository.\n",
    "Otherwise, you can send us a zipped version of your project.\n",
    "\n",
    "## 6. More tips\n",
    "\n",
    "* [Link 1](http://docs.python-guide.org/en/latest/writing/structure/)\n",
    "* [Link 2](https://www.protechtraining.com/content/python_fundamentals_tutorial-code_organization)\n",
    "* [Link 3]()\n"
   ]
  },
  {
   "cell_type": "code",
   "execution_count": null,
   "metadata": {
    "collapsed": true
   },
   "outputs": [],
   "source": []
  }
 ],
 "metadata": {
  "kernelspec": {
   "display_name": "Python 3",
   "language": "python",
   "name": "python3"
  },
  "language_info": {
   "codemirror_mode": {
    "name": "ipython",
    "version": 3
   },
   "file_extension": ".py",
   "mimetype": "text/x-python",
   "name": "python",
   "nbconvert_exporter": "python",
   "pygments_lexer": "ipython3",
   "version": "3.6.1"
  }
 },
 "nbformat": 4,
 "nbformat_minor": 2
}
