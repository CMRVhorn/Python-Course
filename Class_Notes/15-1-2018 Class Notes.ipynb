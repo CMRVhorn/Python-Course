{
 "cells": [
  {
   "cell_type": "markdown",
   "metadata": {},
   "source": [
    "1. SpaCy installation: Done?\n",
    "2. Video on the Python stack\n",
    "  * There is a [new version from 2017](https://www.youtube.com/watch?v=9by46AAqz70&feature=youtu.be).\n",
    "  * [This video](https://www.youtube.com/watch?v=FytuB8nFHPQ) also has some nice inspiration for visualization.\n",
    "  * See the issues posted by Emiel van Miltenburg for more links.\n",
    "3. Tip for the final assignment: Reserve time for things to go wrong, cuz they will.\n",
    "4. Final assignment: Tips on code structure & Organization.\n",
    "5. [Here](https://github.com/dbarnett/python-helloworld) is a sample Hello world project in Python on Github. You probably need to add a directory with data (customarily called `data/`) and potentially a directory with code (often called `src/` for source). "
   ]
  },
  {
   "cell_type": "markdown",
   "metadata": {},
   "source": [
    "**Today:**\n",
    "\n",
    "* [10mins] Introduction & Tips on code organization/documentation\n",
    "* [80mins] Visualization & Statistics\n",
    "  * Visualization in general\n",
    "  * Visualization in Python\n",
    "  * Statistics: Correlation between distributions of variables\n",
    "  * Exploratory analysis of data using visualization and statistics\n",
    "  * More visualizations: tables and networks"
   ]
  },
  {
   "cell_type": "code",
   "execution_count": null,
   "metadata": {
    "collapsed": true
   },
   "outputs": [],
   "source": []
  }
 ],
 "metadata": {
  "kernelspec": {
   "display_name": "Python 3",
   "language": "python",
   "name": "python3"
  },
  "language_info": {
   "codemirror_mode": {
    "name": "ipython",
    "version": 3
   },
   "file_extension": ".py",
   "mimetype": "text/x-python",
   "name": "python",
   "nbconvert_exporter": "python",
   "pygments_lexer": "ipython3",
   "version": "3.6.1"
  }
 },
 "nbformat": 4,
 "nbformat_minor": 2
}
