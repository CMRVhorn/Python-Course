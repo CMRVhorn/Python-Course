{
 "cells": [
  {
   "cell_type": "markdown",
   "metadata": {},
   "source": [
    "# Resit Assignment 1\n",
    "\n",
    "This assignment is a resit for assignment 1. \n",
    "\n",
    "**Deadline: October 21 before 17:00** \n",
    "\n",
    "- Please name your file:\n",
    "    * RESIT-A1_FIRSTNAME_LASTNAME.ipynb\n",
    "- Please submit your assignment on Canvas: Assignment 1\n",
    "- If you have **questions** about this topic, please contact us **(cltl.python.course@gmail.com)**. Questions and answers will be collected on Piazza, so please check if your question has already been answered first.\n",
    "\n",
    "In this block, we covered the following chapters:\n",
    "- Chapter 01 - Variables and Values\n",
    "- Chapter 02 - Basic Data Types\n",
    "- Chapter 03 - Strings\n",
    "- Chapter 04 - Boolean Expressions and Conditions\n",
    "\n",
    "In this assignment, you will be asked to show what you have learned from the topics above! \n",
    "\n",
    "**Finding solutions online**\n",
    "\n",
    "Very often, you can find good solutions online. We encourage you to use online resources when you get stuck. However, please always try to understand the code you find and indicate that it is not your own. Use the following format to mark code written by someone else:\n",
    "\n",
    "###Taken from [link] [date]\n",
    "\n",
    "[code]\n",
    "\n",
    "\\###\n",
    "\n",
    "Please use a similar format to indicate that you have worked with a classmate (e.g. mention the name instead of the link). \n",
    "\n",
    "*Please stick to this strategy for all course assignments.*\n",
    "\n"
   ]
  },
  {
   "cell_type": "markdown",
   "metadata": {},
   "source": [
    "## Exercise 1: Calculations\n",
    "\n",
    "### Exercise 1a\n",
    "\n",
    "A regular pentagon is a geometric figure that consists of 5 equal sides. The perimeted is computed by multiplying 5 times the value of one of the sides. Write below the formula for computing the perimeter of any pentagon of `side = s` for any value of `s`. Assign the result of the formula to a variable called `perimeter` and print the result"
   ]
  },
  {
   "cell_type": "code",
   "execution_count": 1,
   "metadata": {},
   "outputs": [],
   "source": [
    "# Your code here"
   ]
  },
  {
   "cell_type": "markdown",
   "metadata": {},
   "source": [
    "### Exercise 1b\n",
    "\n",
    "To compute the area of the pentagon you should multiply the perimeter times the height `h` and divide the result by 2. Write the code to caclulate the area `area = ?` for any side `s` and height `h`"
   ]
  },
  {
   "cell_type": "code",
   "execution_count": 2,
   "metadata": {},
   "outputs": [],
   "source": [
    "# Start with some values\n",
    "s = 5\n",
    "h = 3\n",
    "\n",
    "# Your code here"
   ]
  },
  {
   "cell_type": "markdown",
   "metadata": {},
   "source": [
    "### Exercise 1c\n",
    "\n",
    "##### The Butterfly Algorithm\n",
    "\n",
    "Suppose you are back at your math course in elementary school and you have two fractions $\\frac{7}{8}$ and $\\frac{2}{10}$. You are asked if $\\frac{7}{8} \\gt \\frac{2}{10}$. In this case it is easy to see that the first fraction is bigger since $\\frac{7}{8} = 0.875$ and $\\frac{2}{10} = 0.2$. \n",
    "\n",
    "There is however a simple method to decide which fraction is bigger without having to calculate their decimal value. Your task is to program it here. The method is the following: for any pair of fractions $\\frac{a}{b}$ and $\\frac{c}{d}$ you have to calculate the cross-product $a*d$ and $c*b$. If $a*d$ is bigger than $c*d$ then the first fraction is bigger; if the two products are the same then the fractions are equivalent; and if the second product is the bigger one then the second fraction is bigger.\n",
    "\n",
    "Write the code to make this calculations: Ask the user for two fractions, convert the numerators and denominators to integers and perform the butterfly algorithm. In the end, print a message saying either: \n",
    "\n",
    "```Fraction 1 is bigger```\n",
    "\n",
    "or \n",
    "\n",
    "```Fraction 2 is bigger```\n",
    "\n",
    "or \n",
    "\n",
    "```Both fractions are equal```\n",
    "    \n",
    "    \n",
    "Store the message in a variable called `print_message_1c` and print it. "
   ]
  },
  {
   "cell_type": "code",
   "execution_count": 3,
   "metadata": {},
   "outputs": [
    {
     "name": "stdin",
     "output_type": "stream",
     "text": [
      "Enter the numerator of the first fraction: 2\n",
      "Enter the denominator of the first fraction: 3\n"
     ]
    },
    {
     "name": "stdout",
     "output_type": "stream",
     "text": [
      "First Fraction: 2 / 3\n"
     ]
    }
   ],
   "source": [
    "#Maths Fraction Hack Algorithm:\n",
    "a = int(input(\"Enter the numerator of the first fraction:\"))\n",
    "b = int(input(\"Enter the denominator of the first fraction:\"))\n",
    "print(f\"First Fraction: {a} / {b}\")\n",
    "\n",
    "# 1 - Complete the code here to enter the second fraction\n",
    "\n",
    "\n",
    "# 2 - Complete the code here to calculate and compare \n",
    "# the cross-products. \n",
    "# Print which fraction is bigger\n",
    "\n",
    "\n",
    "# call the message you print 'print_message_1c':\n",
    "\n",
    "\n",
    "\n"
   ]
  },
  {
   "cell_type": "markdown",
   "metadata": {},
   "source": [
    "### Excercise 1d\n",
    "\n",
    "Just to make sure the algorithm is correct, also calculate the decimal numbers for each fraction and print which fraction is bigger according to the decimal values. Assign `True` to a variable named `algorithm_is_valid` if the result of the fractions above (excercise 1c) matches the result with the decimal values here; otherwise assign the value `False` to it. Print in the end the message \"Sucess\" if the algorithm was valid or print the message \"Failed!\" otherwise.\n",
    "\n",
    "TIP: to compare both calculations, you can save a value in a variable indicating which fraction was bigger in the first try (with the butterfly algorithm) and then compare that value to the exercise here"
   ]
  },
  {
   "cell_type": "code",
   "execution_count": 6,
   "metadata": {},
   "outputs": [],
   "source": [
    "# Complete the code here\n",
    "a = 3\n",
    "b = 5\n",
    "\n",
    "c = 7\n",
    "d = 9\n",
    "\n",
    "dec1 = a/b\n",
    "dec2 = c/d\n",
    "\n"
   ]
  },
  {
   "cell_type": "markdown",
   "metadata": {},
   "source": [
    "## Exercise 2: Printing and user input\n",
    "\n",
    "We will make a short program that asks the user a few questions. We need to store their answers in variables so we can later do some calculations with it. \n",
    "\n",
    "### 2a. Get user input\n",
    "These are the questions you will ask:\n",
    "* What is your full name? (Example Answer: John Doe)\n",
    "* How old are you? (Example Answer: 25)\n",
    "* What is your height in meters? (Example Answer: 1.85)\n",
    "* What is your birthday in YYYY/MM/DD format? (Example Answer: 1999/12/28)\n",
    "\n",
    "After you get all the data, print a message saying: \n",
    "\n",
    "```Welcome **John Doe**! You were born on **1999/12/28**, you are **25** years old and your height is **1.85m**\".```\n",
    "\n",
    "The values shown between asteris (\\*\\*) should be replaced by the values provided by the user (no need to print the asterisks). "
   ]
  },
  {
   "cell_type": "code",
   "execution_count": 7,
   "metadata": {},
   "outputs": [],
   "source": [
    "# Your code here\n",
    "\n"
   ]
  },
  {
   "cell_type": "markdown",
   "metadata": {},
   "source": [
    "### 2b. Validate User Inputs\n",
    "\n",
    "Here, you will ask the same questions as in Exercise 2a, but this time you will make sure that the user provides valid information. If the information is not valid, you will show an error message and go to the next question. We explain what valid information should look like below. \n",
    "\n",
    "At the end, if all the information was valid, you print the same message as last time: \"Welcome **John Doe**! You were born in **28.12.1999**, you are **25** years old and your height is **1.85m**\" \n",
    "\n",
    "If there was one or more questions with an invalid answer you just print \n",
    "\n",
    "```Seems like there were some errors during the process. Please try better next time!```\n",
    "\n",
    "Here is what you need to validate:\n",
    "\n",
    "* What is your full name? (Example Answer: John Doe)\n",
    "\n",
    "Validate that the input is a string and that it has at least one character and no more than 50 characters. \n",
    "\n",
    "* How old are you? (Example Answer: 25)\n",
    "\n",
    "Validate that the input is numeric and that such number is between 1 and 100 \n",
    "\n",
    "* What is your height in meters? (Example Answer: 1.85)\n",
    "\n",
    "Validate that the input a float and it is between 0.5 and 2.5\n",
    "\n",
    "* What is your birthday in YYYY/MM/DD format? (Example Answer: 1999/12/28)\n",
    "\n",
    "Confirm that the user provided a valid date: This means that the string has 10 characters and two slashes and that the month is between 1 and 12 and the day is  1 and 31. \n",
    "\n"
   ]
  },
  {
   "cell_type": "code",
   "execution_count": 8,
   "metadata": {},
   "outputs": [],
   "source": [
    "# Your code here"
   ]
  },
  {
   "cell_type": "markdown",
   "metadata": {},
   "source": [
    "\n"
   ]
  },
  {
   "cell_type": "markdown",
   "metadata": {},
   "source": [
    "## Exercise 3: String Art\n",
    "\n",
    "We can use strings to draw pictures. Below, you can see two numbers made up of strings:\n",
    "\n",
    "```\n",
    " ::  _    ::\n",
    " :: /_ |  ::\n",
    " ::  | |  ::\n",
    " ::  | |  ::\n",
    " ::  | |  ::\n",
    " ::  |_|  ::\n",
    "                                                                                 \n",
    "```\n",
    "\n",
    "In this exercise, we ask you to modify a single line using string slicing and string methods to create all lines that are necessary to print the string. The challenge is to use the minimal mumber of necessary modifications. You can reuse all of the previous lines. **Do not** type new strings. If you replace strings, do not replace more than a single character at a time. \n",
    "\n",
    "An example is given below for the first number (1). \n",
    "\n",
    "Below, we show how you can see the position of each character. \n",
    "\n",
    "\n",
    "Useful operations:\n",
    "\n",
    "* string slicing\n",
    "* replace, possibly with defining how many times you want to replace\n",
    "* using a reversed string (e.g. my_string[::-1])\n",
    "* storing intermediate results in variables and reusing them\n",
    "* any other string method you can find"
   ]
  },
  {
   "cell_type": "code",
   "execution_count": 90,
   "metadata": {},
   "outputs": [
    {
     "name": "stdout",
     "output_type": "stream",
     "text": [
      "0 \t :\n",
      "1 \t :\n",
      "2 \t  \n",
      "3 \t  \n",
      "4 \t _\n",
      "5 \t  \n",
      "6 \t  \n",
      "7 \t  \n",
      "8 \t  \n",
      "9 \t :\n",
      "10 \t :\n"
     ]
    }
   ],
   "source": [
    "l1 = '::  _    ::'\n",
    "\n",
    "for n, char in enumerate(l1):\n",
    "    print(n, '\\t', char)"
   ]
  },
  {
   "cell_type": "markdown",
   "metadata": {},
   "source": [
    "### Finish the code for number 1\n",
    "\n",
    "We made a start for you below. Feel free to modify the examples. You can decide to use a different strategy. The code below is just supposed to illustrate the idea.\n",
    "\n",
    "```\n",
    " ::  _    ::\n",
    " :: /_ |  ::\n",
    " ::  | |  ::\n",
    " ::  | |  ::\n",
    " ::  | |  ::\n",
    " ::  |_|  ::\n",
    "                                                                                 \n",
    "```"
   ]
  },
  {
   "cell_type": "code",
   "execution_count": 131,
   "metadata": {},
   "outputs": [
    {
     "name": "stdout",
     "output_type": "stream",
     "text": [
      "'::  '\n",
      "'_ '\n",
      "'   ::'\n",
      "::  _    ::\n",
      ":: /_ |  ::\n"
     ]
    }
   ],
   "source": [
    "# start \n",
    "\n",
    "# split string into parts:\n",
    "\n",
    "start = l1[:4]\n",
    "middle = l1[4:6]\n",
    "end = l1[6:]\n",
    "\n",
    "# use representation to see what the line parts look like:\n",
    "print(repr(start))\n",
    "print(repr(middle))\n",
    "print(repr(end))\n",
    "\n",
    "# create parts for line 2\n",
    "middle2 = middle\n",
    "start2 = start[::-1].replace(' ', '/', 1)[::-1]\n",
    "end2 = end.replace(' ', '|', 1)\n",
    "\n",
    "\n",
    "l2 = f\"{start2}{middle2}{end2}\"\n",
    "# create remaining lines\n",
    "\n",
    "\n",
    "# create number image (complete with remaining lines):\n",
    "number1 = f'{l1}\\n{l2}'\n",
    "\n",
    "print(number1)"
   ]
  },
  {
   "cell_type": "code",
   "execution_count": null,
   "metadata": {},
   "outputs": [],
   "source": []
  },
  {
   "cell_type": "markdown",
   "metadata": {},
   "source": []
  },
  {
   "cell_type": "code",
   "execution_count": null,
   "metadata": {},
   "outputs": [],
   "source": []
  },
  {
   "cell_type": "markdown",
   "metadata": {},
   "source": [
    "## Exercise 4 Counting rhymes with string methods"
   ]
  },
  {
   "cell_type": "code",
   "execution_count": 2,
   "metadata": {},
   "outputs": [],
   "source": [
    "tyger = \"\"\"\n",
    "Tyger Tyger, burning bright, \n",
    "In the forests of the night; \n",
    "What immortal hand or eye, \n",
    "Could frame thy fearful symmetry?\n",
    "\n",
    "In what distant deeps or skies. \n",
    "Burnt the fire of thine eyes?\n",
    "On what wings dare he aspire?\n",
    "What the hand, dare seize the fire?\n",
    "\n",
    "And what shoulder, & what art,\n",
    "Could twist the sinews of thy heart?\n",
    "And when thy heart began to beat.\n",
    "What dread hand? & what dread feet?\n",
    "\n",
    "What the hammer? what the chain,\n",
    "In what furnace was thy brain?\n",
    "What the anvil? what dread grasp.\n",
    "Dare its deadly terrors clasp?\n",
    "\n",
    "When the stars threw down their spears \n",
    "And water'd heaven with their tears:\n",
    "Did he smile his work to see?\n",
    "Did he who made the Lamb make thee?\n",
    "\n",
    "Tyger Tyger burning bright,\n",
    "In the forests of the night:\n",
    "What immortal hand or eye,\n",
    "Dare frame thy fearful symmetry?\n",
    "\"\"\""
   ]
  },
  {
   "cell_type": "markdown",
   "metadata": {},
   "source": [
    "### 4a) Count all occurrences of the word 'tyger'.\n",
    "\n",
    "Make sure you account for variation in capitalization (both `Tyger` and `tyger` should be counted)."
   ]
  },
  {
   "cell_type": "code",
   "execution_count": null,
   "metadata": {},
   "outputs": [],
   "source": []
  },
  {
   "cell_type": "markdown",
   "metadata": {},
   "source": [
    "### 4b) How many lines rhyme with 'bright'?\n",
    "\n",
    "Use a string method to count a specific substring that rhymes with 'bright'. "
   ]
  },
  {
   "cell_type": "code",
   "execution_count": 9,
   "metadata": {},
   "outputs": [],
   "source": [
    "\n"
   ]
  },
  {
   "cell_type": "markdown",
   "metadata": {},
   "source": [
    "### 4c) How many lines rhyme with 'grasp'? \n",
    "\n",
    "Tip: The sequence of characters you are interested in also appears in the middle of a line. Make sure to exclude this from your count. "
   ]
  },
  {
   "cell_type": "code",
   "execution_count": null,
   "metadata": {},
   "outputs": [],
   "source": []
  },
  {
   "cell_type": "markdown",
   "metadata": {},
   "source": [
    "## Exercise 5: Outfit advice\n",
    "\n",
    "Write code that gives you outfit advice based on the following tables. Please use the variables defined in the cell below. If `system` is set to `fahrenheit`, please convert the temperature based on this formula: (x°F − 32) × 5/9 = y°C, e.g. (64°F − 32) × 5/9 = 17,778°C\n",
    "\n",
    "The code should print the right message from the table based on the variables specified below (temperature, system, rain, wind). \n",
    "\n",
    "\n",
    "\n",
    "|   degrees celsius // weather           | lower than 10                           |                    11-20 | 21-30                              | higher than 30 |\n",
    "|---------------|--------------------------------|-------------------------:|------------------------------------|---------------|\n",
    "| nothing       | wear a winter coat             | wear a sweater           | t-shirt time!                      | too hot       |\n",
    "| wind          | wear a winter coat and a scarf | wear a sweater and scarf | wear a t-shirt and a scarf      | too hot       |\n",
    "| rain          | wear a waterproof winter coat   | wear a waterproof coat   | wear a t-shirt time and bring an umbrella | too hot       |\n",
    "| wind and rain | stay home                      | stay home                | stay home                          | too hot       |"
   ]
  },
  {
   "cell_type": "code",
   "execution_count": 129,
   "metadata": {},
   "outputs": [],
   "source": [
    "temperature = 40\n",
    "system = 'celsius' # could be set to `fahrenheit`\n",
    "rain = False\n",
    "wind = False\n"
   ]
  },
  {
   "cell_type": "code",
   "execution_count": null,
   "metadata": {},
   "outputs": [],
   "source": []
  },
  {
   "cell_type": "markdown",
   "metadata": {},
   "source": []
  },
  {
   "cell_type": "code",
   "execution_count": null,
   "metadata": {},
   "outputs": [],
   "source": []
  }
 ],
 "metadata": {
  "kernelspec": {
   "display_name": "Python 3",
   "language": "python",
   "name": "python3"
  },
  "language_info": {
   "codemirror_mode": {
    "name": "ipython",
    "version": 3
   },
   "file_extension": ".py",
   "mimetype": "text/x-python",
   "name": "python",
   "nbconvert_exporter": "python",
   "pygments_lexer": "ipython3",
   "version": "3.8.3"
  },
  "vscode": {
   "interpreter": {
    "hash": "1f37b899a14b1e53256e3dbe85dea3859019f1cb8d1c44a9c4840877cfd0e7ef"
   }
  }
 },
 "nbformat": 4,
 "nbformat_minor": 4
}
