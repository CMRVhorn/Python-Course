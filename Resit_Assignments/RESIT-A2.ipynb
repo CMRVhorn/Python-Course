{
 "cells": [
  {
   "cell_type": "markdown",
   "metadata": {},
   "source": [
    "# Resit Assignment 2\n",
    "\n",
    "This assignment is a resit for assignment 2. \n",
    "\n",
    "**Deadline: October 21, 2022 before 17:00** \n",
    "\n",
    "- Please name your files:\n",
    "    * RESIT-A2_FIRSTNAME_LASTNAME.ipynb \n",
    "    * utils_resit2.py\n",
    "- Please store the two files in a folder called RESIT-A2_FIRSTNAME_LASTNAME\n",
    "- Please zip your folder and please follow the following naming convention for the zip file: RESIT-A2_FIRSTNAME_LASTNAME.zip\n",
    "- Please submit your assignment on Canvas: Assignment 2\n",
    "- If you have **questions** about this topic, please contact us **(cltl.python.course@gmail.com)**. Questions and answers will be collected on Piazza, so please check if your question has already been answered first.\n",
    "\n",
    "In this block, we covered the following chapters:\n",
    "- Chapter 05 - Core concepts of containers\n",
    "- Chapter 06 - Lists\n",
    "- Chapter 07 - Sets\n",
    "- Chapter 08 - Comparison of lists and sets\n",
    "- Chapter 09 - Looping over containers.\n",
    "- Chapter 10 - Dictionaries\n",
    "- Chapter 11 - Functions and scope\n",
    "\n",
    "In this assignment, you will be asked to show what you have learned from the topics above! \n",
    "\n",
    "**Finding solutions online**\n",
    "\n",
    "Very often, you can find good solutions online. We encourage you to use online resources when you get stuck. However, please always try to understand the code you find and indicate that it is not your own. Use the following format to mark code written by someone else:\n",
    "\n",
    "###Taken from [link] [date]\n",
    "\n",
    "[code]\n",
    "\n",
    "\\###\n",
    "\n",
    "Please use a similar format to indicate that you have worked with a classmate (e.g. mention the name instead of the link). \n",
    "\n",
    "*Please stick to this strategy for all course assignments.*\n",
    "\n"
   ]
  },
  {
   "cell_type": "markdown",
   "metadata": {},
   "source": [
    "## Exercise 1 a\n",
    "\n",
    "Original: beer song\n",
    "\n",
    "Print the following pattern using a for-loop:\n",
    "\n",
    "Note: You will only receive points if you explain what you code does using comments (lines starting with #).\n",
    "\n",
    "```\n",
    "5 4 3 2 1 \n",
    "4 3 2 1 \n",
    "3 2 1 \n",
    "2 1 \n",
    "1\n",
    "```"
   ]
  },
  {
   "cell_type": "code",
   "execution_count": 1,
   "metadata": {},
   "outputs": [],
   "source": [
    "# your code here"
   ]
  },
  {
   "cell_type": "markdown",
   "metadata": {},
   "source": [
    "## Exercise 1 b\n",
    "\n",
    "Print the following pattern using a single for-loop:\n",
    "\n",
    "Note: You will only receive points if you explain what you code does using comments (lines starting with #).\n",
    "\n",
    "\n",
    "```\n",
    "* \n",
    "* * \n",
    "* * * \n",
    "* * * * \n",
    "* * * * * \n",
    "* * * * \n",
    "* * * \n",
    "* * \n",
    "*\n",
    "```"
   ]
  },
  {
   "cell_type": "code",
   "execution_count": 2,
   "metadata": {},
   "outputs": [],
   "source": [
    "# you code here"
   ]
  },
  {
   "cell_type": "markdown",
   "metadata": {},
   "source": [
    "## Exercise 1 c\n",
    "\n",
    "Find palindromes\n",
    "\n",
    "Palindromes are words that read the same forwards and backwards. For instance: Bob, Anna, Hannah\n",
    "\n",
    "Each word or name which reads the same from right to left as from left to right should be printed as follows:\n",
    "    \n",
    "```\n",
    "Found palindrome: Otto\n",
    "Found palindrom: Bob\n",
    "Found palindrome: Anna\n",
    "...\n",
    "```\n",
    "    "
   ]
  },
  {
   "cell_type": "code",
   "execution_count": 15,
   "metadata": {},
   "outputs": [],
   "source": [
    "words = ['child', 'apple', 'Otto', 'Hanna', 'Peter', 'Bob', 'Anna', 'Tattarrattat', 'Tim']\n",
    "   "
   ]
  },
  {
   "cell_type": "code",
   "execution_count": 3,
   "metadata": {},
   "outputs": [],
   "source": [
    "# your code here"
   ]
  },
  {
   "cell_type": "markdown",
   "metadata": {},
   "source": [
    "## Exercise 2\n",
    "\n",
    "Find out what the following dictionary methods do. \n",
    "\n",
    "* a.) keys\n",
    "* b.) values\n",
    "* c.) items\n",
    "* d.) update\n",
    "* e.) pop\n",
    "\n",
    "For each method, provide the following:\n",
    "\n",
    "* explain the positional parameters\n",
    "* explain the keyword parameters\n",
    "* you can exclude *self* from your explanation\n",
    "* explain what the goal of the method is and what data type it returns, e.g., string, list, set, etc.\n",
    "* give a working example. Provide also an example by providing a value for keyword parameters (assuming the method has one or more keyword parameters)."
   ]
  },
  {
   "cell_type": "code",
   "execution_count": 4,
   "metadata": {},
   "outputs": [],
   "source": [
    "# your explanations here"
   ]
  },
  {
   "cell_type": "markdown",
   "metadata": {},
   "source": [
    "## Exercise 3: Text comparison using sets\n",
    "\n",
    "\n",
    "\n",
    "### Exercise 3a\n",
    "\n",
    "Below you can find two texts (called text1 and text2). \n",
    "\n",
    "text1 is taken from: https://en.wikipedia.org/wiki/Sun\n",
    "\n",
    "text2 is taken from: https://simple.wikipedia.org/wiki/Sun\n",
    "\n",
    "Replace all of the following characters by white spaces in both texts:\n",
    "\n",
    "* newlines: '\\n'\n",
    "* commas: ','\n",
    "* dots: '.'\n",
    "* quotes: '\"'\n",
    "* brackets: '(' and ')'\n",
    "* semicolons: ';'\n",
    "\n",
    "Once all of these characters have been removed, set everything to lower case letters. \n",
    "\n",
    "Assign the resulting texts to the following variables:\n",
    "\n",
    "* text1_clean\n",
    "* text2_clean\n",
    "\n",
    "Tip: If you do not want to repeat the same block of code twice, feel free to write a function. This is not required for this exercise, but it will make your code more organized. "
   ]
  },
  {
   "cell_type": "code",
   "execution_count": 42,
   "metadata": {},
   "outputs": [],
   "source": [
    "text1 = \"\"\"The Sun is the star at the center of the Solar System. \n",
    "It is a nearly perfect ball of hot plasma, heated to incandescence by nuclear fusion reactions in its core, radiating the energy mainly as light, ultraviolet, and infrared radiation. \n",
    "It is the most important source of energy for life on Earth.\n",
    "The Sun's radius is about 695,000 kilometers (432,000 miles), or 109 times that of Earth. \n",
    "Its mass is about 330,000 times that of Earth, comprising about 99.86% of the total mass of the Solar System. Roughly three-quarters of the Sun's mass consists of hydrogen (~73%); the rest is mostly helium (~25%), with much smaller quantities of heavier elements, including oxygen, carbon, neon, and iron.\n",
    "\"\"\""
   ]
  },
  {
   "cell_type": "code",
   "execution_count": 43,
   "metadata": {},
   "outputs": [],
   "source": [
    "text2 = \"\"\"The Sun is a star which is located at the center of our solar system. \n",
    "It is a yellow dwarf star that gives off different types of energy such as infra-red energy (heat), ultraviolet light, radio waves and light. \n",
    "It also gives off a stream of particles, which reaches Earth as \"solar wind\". \n",
    "The source of all this energy is nuclear fusion. \n",
    "Nuclear fusion is the reaction in the star which turns hydrogen into helium and makes huge amounts of energy.\n",
    "The Sun is a star like many others in our Milky Way galaxy. \n",
    "The Sun is a type of star called a G-type main-sequence star based on its spectral class. \n",
    "It has existed for a little over 4.5 billion years. \n",
    "It is going to continue for at least as long. \n",
    "The Sun is about a hundred times as wide as the Earth. It has a mass of 1.9891×1030 kg. \n",
    "This is 333,000 times the mass of the Earth. 1.3 million Earths can fit inside the Sun.\"\"\""
   ]
  },
  {
   "cell_type": "code",
   "execution_count": 5,
   "metadata": {},
   "outputs": [],
   "source": [
    "# your code here"
   ]
  },
  {
   "cell_type": "markdown",
   "metadata": {},
   "source": [
    "### Exercise 3b\n",
    "\n",
    "From text to list\n",
    "\n",
    "For each of the two texts create a list which contains all words in the texts. The words should all be lower cased. The punctuation removed in the previous step should not be included. Store the list using the variables `text1_clean_list` and `text2_clean_list`.\n",
    "\n",
    "For example, the list for text1 should start was follows:\n",
    "\n",
    "```\n",
    "text1_clean_list = ['the', 'sun', 'is', 'the', ...]\n",
    "```"
   ]
  },
  {
   "cell_type": "code",
   "execution_count": 6,
   "metadata": {},
   "outputs": [],
   "source": [
    "# your code here"
   ]
  },
  {
   "cell_type": "markdown",
   "metadata": {},
   "source": [
    "#### Exercise 3c\n",
    "\n",
    "Use sets to answer the follwing questions for each text:\n",
    "\n",
    "* How many different characters appear in the text? Count everything excluding white space (i.e. also punctuation). Upper and lower case letters should be treated as equivalents (i.e. H is the same as h) Store the result as an integer called `n_characters_text1` and `n_characters_text2`.\n",
    "* How many different words appear in the text (i.e. what is the size of its vocabulary)? Make sure you do not distinguish between words starting with upper and lower case letters (i.e. 'House' and 'house' should be treated as the same word). Make sure punctuation is not included. Store your results as integers called `n_words_text1` and `n_words_text2`.\n",
    "\n",
    "\n",
    "\n",
    "\n",
    "Tips - character counting: \n",
    "\n",
    "* Use the original texts for this (text1 and text2)\n",
    "\n",
    "* Test what happens if you turn a string into a set:\n",
    "    ```\n",
    "    a_string = 'hello'\n",
    "    a_set = set(a_string)\n",
    "    ```\n",
    "* Store the resulting sets of characters using the variable names `characters_text1` and `characters_text2`\n",
    "* The number of different characters is the length of the set\n",
    "\n",
    "\n",
    "\n",
    "Tips - word counting:\n",
    "\n",
    "* Use the preprocessed texts (text1_preprocessed and text2_preprocessed) for this.\n",
    "* Test what happens if you turn a list into a set:\n",
    "    ```\n",
    "    a_list = ['this', 'is', 'a', 'list']\n",
    "    a_set = set(a_list)\n",
    "    ```\n",
    "* Store the resulting set using the variable names `words_text1` and `words_text2`\n",
    "* The number of words is the length of the set\n",
    "* In case you do this exercise after you have heard about tokenization with NLTK and Spacy: We do not require this type of tokenization here. Splitting on white spaces is enough (see result of exercise 3b). "
   ]
  },
  {
   "cell_type": "code",
   "execution_count": 7,
   "metadata": {},
   "outputs": [],
   "source": [
    "# characters\n",
    "\n",
    "# your code here"
   ]
  },
  {
   "cell_type": "code",
   "execution_count": 8,
   "metadata": {},
   "outputs": [],
   "source": [
    "# words\n",
    "\n",
    "# Your code here"
   ]
  },
  {
   "cell_type": "markdown",
   "metadata": {},
   "source": [
    "### Exercise 3d\n",
    "\n",
    "Compare the words used in the two texts using set methods. \n",
    "\n",
    "* Which words appear in both texts? Store the result (set) using the variable name `words_text1_text2`.\n",
    "* Which words appear only in text1? Store the result (set) using the variable name `words_text1_only`.\n",
    "* Which words appear only in text2? Store the result (set) using the variable name `words_text2_only`."
   ]
  },
  {
   "cell_type": "code",
   "execution_count": 9,
   "metadata": {},
   "outputs": [],
   "source": [
    "# both texts"
   ]
  },
  {
   "cell_type": "code",
   "execution_count": 10,
   "metadata": {},
   "outputs": [],
   "source": [
    "# text 1 only"
   ]
  },
  {
   "cell_type": "code",
   "execution_count": 11,
   "metadata": {},
   "outputs": [],
   "source": [
    "# text 2 only"
   ]
  },
  {
   "cell_type": "markdown",
   "metadata": {},
   "source": [
    "## Exercise 4\n",
    "\n",
    "Iterating over (nested) containers\n",
    "\n"
   ]
  },
  {
   "cell_type": "markdown",
   "metadata": {},
   "source": [
    "(1) What is the type of the values in the dictionary message dict? Tipe: Use a for-loop to iterate over the keys and values of the dictionary. Use the type function to print the type of the values. \n",
    "\n",
    "(2) Print the question (\"Q\") of chat3 using a single line of code (i.e. do not use a for-loop).\n",
    "\n",
    "(3) Iterate over the messages and print each answer (\"A\") that contains the word \"you\". "
   ]
  },
  {
   "cell_type": "code",
   "execution_count": 43,
   "metadata": {},
   "outputs": [],
   "source": [
    "message_dict = {\n",
    "    \n",
    "    \"chat1\": {\"Q\": \"What is your favorite color?\",\n",
    "             \"A\": \"My favorite color is green. What about you?\"},\n",
    "    \"chat2\": {\"Q\": \"What is the weather like today?\",\n",
    "              \"A\": \"Today, we're having clear skies and up to 20 degrees.\"},\n",
    "    \"chat3\": {\"Q\": \"What would you like to drink?\",\n",
    "              \"A\": \"What beers do you have?\"}\n",
    "    \n",
    "}\n"
   ]
  },
  {
   "cell_type": "code",
   "execution_count": 12,
   "metadata": {},
   "outputs": [],
   "source": [
    "# your code here"
   ]
  },
  {
   "cell_type": "markdown",
   "metadata": {},
   "source": [
    "## Exercise 5: Counting with a dictionary\n",
    "\n",
    "\n",
    "Below, you find a dictionary with the 15 best selling books of all times according to https://jamesclear.com/best-books/best-selling. \n",
    "\n",
    "Please fill another dictionary called `book_counts` with the following key and value pairs:\n",
    "\n",
    "* key: 'authors_multiple_books', value: number of authors with more than a single book in book_dict\n",
    "* key: 'The_in_title', value: number of titles with the determiner 'the' in it\n",
    "* key: 'Long_title', number of titles longer than or equal to 25 characters\n",
    "\n",
    "\n",
    "Tips & tricks:\n",
    "\n",
    "* You can create a list containing all values of the dictionary by running `list(book_dict.values())`. You can then use a particular list method to count the number of occurrences of a particular item. \n",
    "\n",
    "* * Attention: Authors with multiple books appear multiple times in the dict. You only want to count each of them once when counting authors with multiple books There are 2 authors with more than one book (Rowling and Tolkin). You can deal with this problem in multiple ways. Feel free to use additional containers to store intermediate results or check if you have already counted something.\n"
   ]
  },
  {
   "cell_type": "code",
   "execution_count": 19,
   "metadata": {},
   "outputs": [],
   "source": [
    "book_dict = {\n",
    "    \n",
    "    'Don Quixote': 'Miguel de Cervantes',\n",
    "    'A Tale of Two Cities': 'Charles Dickens',\n",
    "    'The Lord of the Rings': 'J.R.R. Tolkin',\n",
    "    'The Little Prince': 'Antoine de Seint-Exupery',\n",
    "    'Harry Potter and the Sorcerer\\'s Stone': 'J.K. Rowling',\n",
    "    'And Then There Where None': 'Agatha Christie',\n",
    "    'The Dream of the Red Chamber': 'Cao Xueqin',\n",
    "    'The Hobbit': 'J.R.R. Tolkin',\n",
    "    'She: A History of Adventure': 'H. Rider Haggard',\n",
    "    'The Lion, the Witch and the Wardrobe': 'C.S. Lewis',\n",
    "    'The Da Vinci Code': 'Dan Brown',\n",
    "    'Think and Grow Rich': 'Napoleon Hill',\n",
    "    'Harry Potter and the Half-Blood Prince': 'J.K. Rowling',\n",
    "    'The Catcher in the Rye': 'J.D. Salinger',\n",
    "    'The Alchemist': 'Paolo Coelho'\n",
    "}"
   ]
  },
  {
   "cell_type": "code",
   "execution_count": 13,
   "metadata": {},
   "outputs": [],
   "source": [
    "# your code here"
   ]
  },
  {
   "cell_type": "markdown",
   "metadata": {},
   "source": [
    "## Exercise 6: Functions\n",
    "\n",
    "### 6a: Function for 1a: print_numbers\n",
    "\n",
    "Write a function which prints the image you created in exercise 1a. \n"
   ]
  },
  {
   "cell_type": "code",
   "execution_count": 14,
   "metadata": {},
   "outputs": [],
   "source": [
    "def print_numbers():\n",
    "    # Your code here\n",
    "    pass"
   ]
  },
  {
   "cell_type": "code",
   "execution_count": null,
   "metadata": {},
   "outputs": [],
   "source": []
  },
  {
   "cell_type": "markdown",
   "metadata": {},
   "source": [
    "### 6b: Print any numbers\n",
    "\n",
    "Modify the function you defined in exercise 6a in such a way that it can print the shape depicted in 1a with any number of numbers. Define a parameter (called top_number) and give it the default value 3. `Top_number` should define the size of the image.  \n",
    "\n",
    "Example 1: `top_number=3` should result in:\n",
    "\n",
    "```\n",
    "0 1 2 3\n",
    "1 2 3\n",
    "2 3\n",
    "3\n",
    "```\n",
    "\n",
    "Example 2: `top_number=5` should result in:\n",
    "\n",
    "```\n",
    "0 1 2 3 4 5\n",
    "1 2 3 4 5\n",
    "2 3 4 5\n",
    "3 4 5\n",
    "4 5\n",
    "5\n",
    "```"
   ]
  },
  {
   "cell_type": "code",
   "execution_count": 29,
   "metadata": {},
   "outputs": [],
   "source": [
    "# Your function here"
   ]
  },
  {
   "cell_type": "code",
   "execution_count": 15,
   "metadata": {},
   "outputs": [],
   "source": [
    "# Test your function\n",
    "print_any_numbers()"
   ]
  },
  {
   "cell_type": "markdown",
   "metadata": {},
   "source": [
    "### 6c: Get chat message\n",
    "\n",
    "Write a function called `get_message` that can retrieve a particular message or a list of messages from the message dict you used in Exercise 4 (defined again below). The function should have the following input parameters:\n",
    "\n",
    "* a message_dict as an input (no default value)\n",
    "* a chat_name (e.g. \"chat1\", \"chat2\") (no default value)\n",
    "* a message_name: \"Q\" for returning the question, \"A\" for returning the answer, \"QA\" for returning a list containing the question and answer. (default value \"Q\")\n",
    "\n",
    "The function should return:\n",
    "\n",
    "The chat message (str) or messages (list) specified via chat_name and message_name.\n",
    "\n",
    "Store the function in a .py script called `utils_resit2.py`. Import it into the notebook and call it using the message dict below. Demonstrate that your function works using mutliple input configurations. \n"
   ]
  },
  {
   "cell_type": "code",
   "execution_count": 35,
   "metadata": {},
   "outputs": [],
   "source": [
    "message_dict = {\n",
    "    \n",
    "    \"chat1\": {\"Q\": \"What is your favorite color?\",\n",
    "             \"A\": \"My favorite color is green. What about you?\"},\n",
    "    \"chat2\": {\"Q\": \"What is the weather like today?\",\n",
    "              \"A\": \"Today, we're having clear skies and up to 20 degrees.\"},\n",
    "    \"chat3\": {\"Q\": \"What would you like to drink?\",\n",
    "              \"A\": \"What beers do you have?\"}\n",
    "    \n",
    "}\n"
   ]
  },
  {
   "cell_type": "code",
   "execution_count": null,
   "metadata": {},
   "outputs": [],
   "source": [
    "def get_message():\n",
    "    # Your code here\n",
    "    pass"
   ]
  },
  {
   "cell_type": "code",
   "execution_count": 16,
   "metadata": {},
   "outputs": [],
   "source": [
    "# # Test your function\n",
    "chat = 'chat2'\n",
    "my_message = get_message(message_dict, chat, message_name='QA')\n",
    "my_message"
   ]
  },
  {
   "cell_type": "markdown",
   "metadata": {},
   "source": [
    "## 7. Python knowledge\n",
    "\n",
    "Below, we show you a couple of examples. Some result in errors, some don't but do not give the expected output. For each example, please explain what the problem is. Make use of the following terms (if they apply):\n",
    "\n",
    "* function name\n",
    "* function definition\n",
    "* parameter with/without default value"
   ]
  },
  {
   "cell_type": "markdown",
   "metadata": {},
   "source": [
    "### 7.a \n",
    "\n",
    "Please explain the error you get when you run the code below. "
   ]
  },
  {
   "cell_type": "code",
   "execution_count": 44,
   "metadata": {},
   "outputs": [
    {
     "ename": "TypeError",
     "evalue": "clear() takes no arguments (1 given)",
     "output_type": "error",
     "traceback": [
      "\u001b[0;31m---------------------------------------------------------------------------\u001b[0m",
      "\u001b[0;31mTypeError\u001b[0m                                 Traceback (most recent call last)",
      "\u001b[0;32m<ipython-input-44-c4f3036d0fff>\u001b[0m in \u001b[0;36m<module>\u001b[0;34m\u001b[0m\n\u001b[1;32m      1\u001b[0m \u001b[0mmy_set\u001b[0m \u001b[0;34m=\u001b[0m \u001b[0;34m{\u001b[0m\u001b[0;36m1\u001b[0m\u001b[0;34m,\u001b[0m\u001b[0;36m2\u001b[0m\u001b[0;34m,\u001b[0m\u001b[0;36m3\u001b[0m\u001b[0;34m}\u001b[0m\u001b[0;34m\u001b[0m\u001b[0;34m\u001b[0m\u001b[0m\n\u001b[0;32m----> 2\u001b[0;31m \u001b[0mmy_set\u001b[0m\u001b[0;34m.\u001b[0m\u001b[0mclear\u001b[0m\u001b[0;34m(\u001b[0m\u001b[0;36m2\u001b[0m\u001b[0;34m)\u001b[0m\u001b[0;34m\u001b[0m\u001b[0;34m\u001b[0m\u001b[0m\n\u001b[0m",
      "\u001b[0;31mTypeError\u001b[0m: clear() takes no arguments (1 given)"
     ]
    }
   ],
   "source": [
    "my_set = {1,2,3}\n",
    "my_set.clear(2)"
   ]
  },
  {
   "cell_type": "markdown",
   "metadata": {},
   "source": [
    "... enter you explanation here."
   ]
  },
  {
   "cell_type": "markdown",
   "metadata": {},
   "source": [
    "### 7.b\n",
    "\n",
    "Below, you can find that that **should** do the following:\n",
    "\n",
    "* If a word contains a g, add it to the list called `my_g_list'\n",
    "* If a word contains an o, add it to the list called `my_o_list'\n",
    "* If a word contains both (g and o), add it to both lists\n",
    "\n",
    "What is the problem with the code below? How can it be fixed?"
   ]
  },
  {
   "cell_type": "code",
   "execution_count": 56,
   "metadata": {},
   "outputs": [
    {
     "name": "stdout",
     "output_type": "stream",
     "text": [
      "['green', 'orange']\n",
      "['yellow']\n"
     ]
    }
   ],
   "source": [
    "my_list = ['blue', 'green', 'yellow', 'pink', 'orange']\n",
    "my_g_list = []\n",
    "my_o_list = []\n",
    "\n",
    "for word in my_list:\n",
    "    if 'g' in word:\n",
    "        my_g_list.append(word)\n",
    "    elif 'o' in word:\n",
    "        my_o_list.append(word)\n",
    "        \n",
    "print(my_g_list)\n",
    "print(my_o_list)\n"
   ]
  },
  {
   "cell_type": "markdown",
   "metadata": {},
   "source": [
    "### 7.c\n",
    "\n",
    "Below, you find a function called `count_words`. The function counts words in a list and stores the result in a dictionary. Please look at the code and explain the error it throws when accessing the value of 'example' in `cnt` (`cnt['example']`). Please also explain how you could fix it. \n"
   ]
  },
  {
   "cell_type": "code",
   "execution_count": 1,
   "metadata": {},
   "outputs": [],
   "source": [
    "def count_words(word_list):\n",
    "    \n",
    "    \"Count word frequencies of words in a list.\"\n",
    "    \n",
    "    cnt_dict = dict()\n",
    "    \n",
    "    for word in word_list:\n",
    "        if word in cnt_dict:\n",
    "            cnt_dict[word] += 1\n",
    "        else:\n",
    "            cnt_dict[word] = 1\n",
    "    print(cnt_dict)\n",
    "    \n",
    " \n"
   ]
  },
  {
   "cell_type": "code",
   "execution_count": 2,
   "metadata": {},
   "outputs": [],
   "source": [
    "my_words = ['this', 'is', 'just',\n",
    "            'a', 'test', 'example', 'to',\n",
    "           'test', 'some', 'example', 'code']"
   ]
  },
  {
   "cell_type": "code",
   "execution_count": 3,
   "metadata": {},
   "outputs": [
    {
     "name": "stdout",
     "output_type": "stream",
     "text": [
      "{'this': 1, 'is': 1, 'just': 1, 'a': 1, 'test': 2, 'example': 2, 'to': 1, 'some': 1, 'code': 1}\n"
     ]
    }
   ],
   "source": [
    "cnt = count_words(my_words)"
   ]
  },
  {
   "cell_type": "code",
   "execution_count": 5,
   "metadata": {},
   "outputs": [
    {
     "ename": "TypeError",
     "evalue": "'NoneType' object is not subscriptable",
     "output_type": "error",
     "traceback": [
      "\u001b[0;31m---------------------------------------------------------------------------\u001b[0m",
      "\u001b[0;31mTypeError\u001b[0m                                 Traceback (most recent call last)",
      "\u001b[0;32m<ipython-input-5-0617caf3673c>\u001b[0m in \u001b[0;36m<module>\u001b[0;34m\u001b[0m\n\u001b[0;32m----> 1\u001b[0;31m \u001b[0mcnt\u001b[0m\u001b[0;34m[\u001b[0m\u001b[0;34m'example'\u001b[0m\u001b[0;34m]\u001b[0m\u001b[0;34m\u001b[0m\u001b[0;34m\u001b[0m\u001b[0m\n\u001b[0m",
      "\u001b[0;31mTypeError\u001b[0m: 'NoneType' object is not subscriptable"
     ]
    }
   ],
   "source": [
    "cnt['example']"
   ]
  },
  {
   "cell_type": "code",
   "execution_count": null,
   "metadata": {},
   "outputs": [],
   "source": []
  }
 ],
 "metadata": {
  "kernelspec": {
   "display_name": "Python 3",
   "language": "python",
   "name": "python3"
  },
  "language_info": {
   "codemirror_mode": {
    "name": "ipython",
    "version": 3
   },
   "file_extension": ".py",
   "mimetype": "text/x-python",
   "name": "python",
   "nbconvert_exporter": "python",
   "pygments_lexer": "ipython3",
   "version": "3.8.3"
  }
 },
 "nbformat": 4,
 "nbformat_minor": 4
}
